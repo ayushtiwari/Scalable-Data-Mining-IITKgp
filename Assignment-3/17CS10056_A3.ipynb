{
  "nbformat": 4,
  "nbformat_minor": 0,
  "metadata": {
    "accelerator": "GPU",
    "colab": {
      "name": "optimizations.ipynb",
      "provenance": [],
      "collapsed_sections": [
        "WmHj-SMiEDPq",
        "B2NhSgnGDmHA",
        "ptNl-0T7-B7w",
        "FDrtNxXOFJ5t",
        "-BFq-q24Fp_U",
        "UNh_C7BdFsPd"
      ],
      "toc_visible": true
    },
    "kernelspec": {
      "display_name": "Python 3",
      "name": "python3"
    },
    "widgets": {
      "application/vnd.jupyter.widget-state+json": {
        "611109067261498e990cf27e70a4b0c6": {
          "model_module": "@jupyter-widgets/controls",
          "model_name": "HBoxModel",
          "state": {
            "_dom_classes": [],
            "_model_module": "@jupyter-widgets/controls",
            "_model_module_version": "1.5.0",
            "_model_name": "HBoxModel",
            "_view_count": null,
            "_view_module": "@jupyter-widgets/controls",
            "_view_module_version": "1.5.0",
            "_view_name": "HBoxView",
            "box_style": "",
            "children": [
              "IPY_MODEL_f51bdb674461415bb24d0d14b3a4d288",
              "IPY_MODEL_62f1f7ab14674799b107f60268d28bb0"
            ],
            "layout": "IPY_MODEL_dc0e8e4d2bab418fb6893090b2e4969b"
          }
        },
        "f51bdb674461415bb24d0d14b3a4d288": {
          "model_module": "@jupyter-widgets/controls",
          "model_name": "FloatProgressModel",
          "state": {
            "_dom_classes": [],
            "_model_module": "@jupyter-widgets/controls",
            "_model_module_version": "1.5.0",
            "_model_name": "FloatProgressModel",
            "_view_count": null,
            "_view_module": "@jupyter-widgets/controls",
            "_view_module_version": "1.5.0",
            "_view_name": "ProgressView",
            "bar_style": "info",
            "description": "",
            "description_tooltip": null,
            "layout": "IPY_MODEL_12b4e7b8b28c405c9ec77aa2d941d601",
            "max": 1,
            "min": 0,
            "orientation": "horizontal",
            "style": "IPY_MODEL_39efbd3eaab340c48d763d2bf8b4c975",
            "value": 1
          }
        },
        "62f1f7ab14674799b107f60268d28bb0": {
          "model_module": "@jupyter-widgets/controls",
          "model_name": "HTMLModel",
          "state": {
            "_dom_classes": [],
            "_model_module": "@jupyter-widgets/controls",
            "_model_module_version": "1.5.0",
            "_model_name": "HTMLModel",
            "_view_count": null,
            "_view_module": "@jupyter-widgets/controls",
            "_view_module_version": "1.5.0",
            "_view_name": "HTMLView",
            "description": "",
            "description_tooltip": null,
            "layout": "IPY_MODEL_ce891633f962493baf4f8979f89ed175",
            "placeholder": "​",
            "style": "IPY_MODEL_45a856cc4c2540a6a725ae9616e1e917",
            "value": " 9920512/? [00:20&lt;00:00, 183791.55it/s]"
          }
        },
        "dc0e8e4d2bab418fb6893090b2e4969b": {
          "model_module": "@jupyter-widgets/base",
          "model_name": "LayoutModel",
          "state": {
            "_model_module": "@jupyter-widgets/base",
            "_model_module_version": "1.2.0",
            "_model_name": "LayoutModel",
            "_view_count": null,
            "_view_module": "@jupyter-widgets/base",
            "_view_module_version": "1.2.0",
            "_view_name": "LayoutView",
            "align_content": null,
            "align_items": null,
            "align_self": null,
            "border": null,
            "bottom": null,
            "display": null,
            "flex": null,
            "flex_flow": null,
            "grid_area": null,
            "grid_auto_columns": null,
            "grid_auto_flow": null,
            "grid_auto_rows": null,
            "grid_column": null,
            "grid_gap": null,
            "grid_row": null,
            "grid_template_areas": null,
            "grid_template_columns": null,
            "grid_template_rows": null,
            "height": null,
            "justify_content": null,
            "justify_items": null,
            "left": null,
            "margin": null,
            "max_height": null,
            "max_width": null,
            "min_height": null,
            "min_width": null,
            "object_fit": null,
            "object_position": null,
            "order": null,
            "overflow": null,
            "overflow_x": null,
            "overflow_y": null,
            "padding": null,
            "right": null,
            "top": null,
            "visibility": null,
            "width": null
          }
        },
        "12b4e7b8b28c405c9ec77aa2d941d601": {
          "model_module": "@jupyter-widgets/base",
          "model_name": "LayoutModel",
          "state": {
            "_model_module": "@jupyter-widgets/base",
            "_model_module_version": "1.2.0",
            "_model_name": "LayoutModel",
            "_view_count": null,
            "_view_module": "@jupyter-widgets/base",
            "_view_module_version": "1.2.0",
            "_view_name": "LayoutView",
            "align_content": null,
            "align_items": null,
            "align_self": null,
            "border": null,
            "bottom": null,
            "display": null,
            "flex": null,
            "flex_flow": null,
            "grid_area": null,
            "grid_auto_columns": null,
            "grid_auto_flow": null,
            "grid_auto_rows": null,
            "grid_column": null,
            "grid_gap": null,
            "grid_row": null,
            "grid_template_areas": null,
            "grid_template_columns": null,
            "grid_template_rows": null,
            "height": null,
            "justify_content": null,
            "justify_items": null,
            "left": null,
            "margin": null,
            "max_height": null,
            "max_width": null,
            "min_height": null,
            "min_width": null,
            "object_fit": null,
            "object_position": null,
            "order": null,
            "overflow": null,
            "overflow_x": null,
            "overflow_y": null,
            "padding": null,
            "right": null,
            "top": null,
            "visibility": null,
            "width": null
          }
        },
        "39efbd3eaab340c48d763d2bf8b4c975": {
          "model_module": "@jupyter-widgets/controls",
          "model_name": "ProgressStyleModel",
          "state": {
            "_model_module": "@jupyter-widgets/controls",
            "_model_module_version": "1.5.0",
            "_model_name": "ProgressStyleModel",
            "_view_count": null,
            "_view_module": "@jupyter-widgets/base",
            "_view_module_version": "1.2.0",
            "_view_name": "StyleView",
            "bar_color": null,
            "description_width": "initial"
          }
        },
        "ce891633f962493baf4f8979f89ed175": {
          "model_module": "@jupyter-widgets/base",
          "model_name": "LayoutModel",
          "state": {
            "_model_module": "@jupyter-widgets/base",
            "_model_module_version": "1.2.0",
            "_model_name": "LayoutModel",
            "_view_count": null,
            "_view_module": "@jupyter-widgets/base",
            "_view_module_version": "1.2.0",
            "_view_name": "LayoutView",
            "align_content": null,
            "align_items": null,
            "align_self": null,
            "border": null,
            "bottom": null,
            "display": null,
            "flex": null,
            "flex_flow": null,
            "grid_area": null,
            "grid_auto_columns": null,
            "grid_auto_flow": null,
            "grid_auto_rows": null,
            "grid_column": null,
            "grid_gap": null,
            "grid_row": null,
            "grid_template_areas": null,
            "grid_template_columns": null,
            "grid_template_rows": null,
            "height": null,
            "justify_content": null,
            "justify_items": null,
            "left": null,
            "margin": null,
            "max_height": null,
            "max_width": null,
            "min_height": null,
            "min_width": null,
            "object_fit": null,
            "object_position": null,
            "order": null,
            "overflow": null,
            "overflow_x": null,
            "overflow_y": null,
            "padding": null,
            "right": null,
            "top": null,
            "visibility": null,
            "width": null
          }
        },
        "45a856cc4c2540a6a725ae9616e1e917": {
          "model_module": "@jupyter-widgets/controls",
          "model_name": "DescriptionStyleModel",
          "state": {
            "_model_module": "@jupyter-widgets/controls",
            "_model_module_version": "1.5.0",
            "_model_name": "DescriptionStyleModel",
            "_view_count": null,
            "_view_module": "@jupyter-widgets/base",
            "_view_module_version": "1.2.0",
            "_view_name": "StyleView",
            "description_width": ""
          }
        },
        "768cca8a2a534d02bb29d772f5ada85b": {
          "model_module": "@jupyter-widgets/controls",
          "model_name": "HBoxModel",
          "state": {
            "_dom_classes": [],
            "_model_module": "@jupyter-widgets/controls",
            "_model_module_version": "1.5.0",
            "_model_name": "HBoxModel",
            "_view_count": null,
            "_view_module": "@jupyter-widgets/controls",
            "_view_module_version": "1.5.0",
            "_view_name": "HBoxView",
            "box_style": "",
            "children": [
              "IPY_MODEL_9e313830d0d44b219f87d85bce1eba03",
              "IPY_MODEL_9ac85f1a9d824c0db49186421cb91060"
            ],
            "layout": "IPY_MODEL_bb84d2d6b66b4d7096db946e695c36d1"
          }
        },
        "9e313830d0d44b219f87d85bce1eba03": {
          "model_module": "@jupyter-widgets/controls",
          "model_name": "FloatProgressModel",
          "state": {
            "_dom_classes": [],
            "_model_module": "@jupyter-widgets/controls",
            "_model_module_version": "1.5.0",
            "_model_name": "FloatProgressModel",
            "_view_count": null,
            "_view_module": "@jupyter-widgets/controls",
            "_view_module_version": "1.5.0",
            "_view_name": "ProgressView",
            "bar_style": "success",
            "description": "",
            "description_tooltip": null,
            "layout": "IPY_MODEL_13703645dc3641a4820e8d7e455ba079",
            "max": 1,
            "min": 0,
            "orientation": "horizontal",
            "style": "IPY_MODEL_df45dcbc91d849c0a72e0dcee22c90fd",
            "value": 1
          }
        },
        "9ac85f1a9d824c0db49186421cb91060": {
          "model_module": "@jupyter-widgets/controls",
          "model_name": "HTMLModel",
          "state": {
            "_dom_classes": [],
            "_model_module": "@jupyter-widgets/controls",
            "_model_module_version": "1.5.0",
            "_model_name": "HTMLModel",
            "_view_count": null,
            "_view_module": "@jupyter-widgets/controls",
            "_view_module_version": "1.5.0",
            "_view_name": "HTMLView",
            "description": "",
            "description_tooltip": null,
            "layout": "IPY_MODEL_db1ef86f92a34fd28c71f9c7c6203ff6",
            "placeholder": "​",
            "style": "IPY_MODEL_816166313b174b359021d007e3759bfe",
            "value": " 32768/? [00:00&lt;00:00, 333311.39it/s]"
          }
        },
        "bb84d2d6b66b4d7096db946e695c36d1": {
          "model_module": "@jupyter-widgets/base",
          "model_name": "LayoutModel",
          "state": {
            "_model_module": "@jupyter-widgets/base",
            "_model_module_version": "1.2.0",
            "_model_name": "LayoutModel",
            "_view_count": null,
            "_view_module": "@jupyter-widgets/base",
            "_view_module_version": "1.2.0",
            "_view_name": "LayoutView",
            "align_content": null,
            "align_items": null,
            "align_self": null,
            "border": null,
            "bottom": null,
            "display": null,
            "flex": null,
            "flex_flow": null,
            "grid_area": null,
            "grid_auto_columns": null,
            "grid_auto_flow": null,
            "grid_auto_rows": null,
            "grid_column": null,
            "grid_gap": null,
            "grid_row": null,
            "grid_template_areas": null,
            "grid_template_columns": null,
            "grid_template_rows": null,
            "height": null,
            "justify_content": null,
            "justify_items": null,
            "left": null,
            "margin": null,
            "max_height": null,
            "max_width": null,
            "min_height": null,
            "min_width": null,
            "object_fit": null,
            "object_position": null,
            "order": null,
            "overflow": null,
            "overflow_x": null,
            "overflow_y": null,
            "padding": null,
            "right": null,
            "top": null,
            "visibility": null,
            "width": null
          }
        },
        "13703645dc3641a4820e8d7e455ba079": {
          "model_module": "@jupyter-widgets/base",
          "model_name": "LayoutModel",
          "state": {
            "_model_module": "@jupyter-widgets/base",
            "_model_module_version": "1.2.0",
            "_model_name": "LayoutModel",
            "_view_count": null,
            "_view_module": "@jupyter-widgets/base",
            "_view_module_version": "1.2.0",
            "_view_name": "LayoutView",
            "align_content": null,
            "align_items": null,
            "align_self": null,
            "border": null,
            "bottom": null,
            "display": null,
            "flex": null,
            "flex_flow": null,
            "grid_area": null,
            "grid_auto_columns": null,
            "grid_auto_flow": null,
            "grid_auto_rows": null,
            "grid_column": null,
            "grid_gap": null,
            "grid_row": null,
            "grid_template_areas": null,
            "grid_template_columns": null,
            "grid_template_rows": null,
            "height": null,
            "justify_content": null,
            "justify_items": null,
            "left": null,
            "margin": null,
            "max_height": null,
            "max_width": null,
            "min_height": null,
            "min_width": null,
            "object_fit": null,
            "object_position": null,
            "order": null,
            "overflow": null,
            "overflow_x": null,
            "overflow_y": null,
            "padding": null,
            "right": null,
            "top": null,
            "visibility": null,
            "width": null
          }
        },
        "df45dcbc91d849c0a72e0dcee22c90fd": {
          "model_module": "@jupyter-widgets/controls",
          "model_name": "ProgressStyleModel",
          "state": {
            "_model_module": "@jupyter-widgets/controls",
            "_model_module_version": "1.5.0",
            "_model_name": "ProgressStyleModel",
            "_view_count": null,
            "_view_module": "@jupyter-widgets/base",
            "_view_module_version": "1.2.0",
            "_view_name": "StyleView",
            "bar_color": null,
            "description_width": "initial"
          }
        },
        "db1ef86f92a34fd28c71f9c7c6203ff6": {
          "model_module": "@jupyter-widgets/base",
          "model_name": "LayoutModel",
          "state": {
            "_model_module": "@jupyter-widgets/base",
            "_model_module_version": "1.2.0",
            "_model_name": "LayoutModel",
            "_view_count": null,
            "_view_module": "@jupyter-widgets/base",
            "_view_module_version": "1.2.0",
            "_view_name": "LayoutView",
            "align_content": null,
            "align_items": null,
            "align_self": null,
            "border": null,
            "bottom": null,
            "display": null,
            "flex": null,
            "flex_flow": null,
            "grid_area": null,
            "grid_auto_columns": null,
            "grid_auto_flow": null,
            "grid_auto_rows": null,
            "grid_column": null,
            "grid_gap": null,
            "grid_row": null,
            "grid_template_areas": null,
            "grid_template_columns": null,
            "grid_template_rows": null,
            "height": null,
            "justify_content": null,
            "justify_items": null,
            "left": null,
            "margin": null,
            "max_height": null,
            "max_width": null,
            "min_height": null,
            "min_width": null,
            "object_fit": null,
            "object_position": null,
            "order": null,
            "overflow": null,
            "overflow_x": null,
            "overflow_y": null,
            "padding": null,
            "right": null,
            "top": null,
            "visibility": null,
            "width": null
          }
        },
        "816166313b174b359021d007e3759bfe": {
          "model_module": "@jupyter-widgets/controls",
          "model_name": "DescriptionStyleModel",
          "state": {
            "_model_module": "@jupyter-widgets/controls",
            "_model_module_version": "1.5.0",
            "_model_name": "DescriptionStyleModel",
            "_view_count": null,
            "_view_module": "@jupyter-widgets/base",
            "_view_module_version": "1.2.0",
            "_view_name": "StyleView",
            "description_width": ""
          }
        },
        "a6d9167854ce45659d2a9c0473374012": {
          "model_module": "@jupyter-widgets/controls",
          "model_name": "HBoxModel",
          "state": {
            "_dom_classes": [],
            "_model_module": "@jupyter-widgets/controls",
            "_model_module_version": "1.5.0",
            "_model_name": "HBoxModel",
            "_view_count": null,
            "_view_module": "@jupyter-widgets/controls",
            "_view_module_version": "1.5.0",
            "_view_name": "HBoxView",
            "box_style": "",
            "children": [
              "IPY_MODEL_de84b0e4e5494f0688f99b5a35c72cf1",
              "IPY_MODEL_dbfed1cf6207453fbc251c68e2e66bc1"
            ],
            "layout": "IPY_MODEL_c5a64b61109543b4a9e243cfbe1c7307"
          }
        },
        "de84b0e4e5494f0688f99b5a35c72cf1": {
          "model_module": "@jupyter-widgets/controls",
          "model_name": "FloatProgressModel",
          "state": {
            "_dom_classes": [],
            "_model_module": "@jupyter-widgets/controls",
            "_model_module_version": "1.5.0",
            "_model_name": "FloatProgressModel",
            "_view_count": null,
            "_view_module": "@jupyter-widgets/controls",
            "_view_module_version": "1.5.0",
            "_view_name": "ProgressView",
            "bar_style": "info",
            "description": "",
            "description_tooltip": null,
            "layout": "IPY_MODEL_90166847006646fa8fe57ef4a3675015",
            "max": 1,
            "min": 0,
            "orientation": "horizontal",
            "style": "IPY_MODEL_3616c1de1dc94a26844ae90ed1948299",
            "value": 1
          }
        },
        "dbfed1cf6207453fbc251c68e2e66bc1": {
          "model_module": "@jupyter-widgets/controls",
          "model_name": "HTMLModel",
          "state": {
            "_dom_classes": [],
            "_model_module": "@jupyter-widgets/controls",
            "_model_module_version": "1.5.0",
            "_model_name": "HTMLModel",
            "_view_count": null,
            "_view_module": "@jupyter-widgets/controls",
            "_view_module_version": "1.5.0",
            "_view_name": "HTMLView",
            "description": "",
            "description_tooltip": null,
            "layout": "IPY_MODEL_fbd55a396da14e96a98b511630ec5e8a",
            "placeholder": "​",
            "style": "IPY_MODEL_41c57186beea47c4b14acf1019d7f813",
            "value": " 1654784/? [00:19&lt;00:00, 124917.93it/s]"
          }
        },
        "c5a64b61109543b4a9e243cfbe1c7307": {
          "model_module": "@jupyter-widgets/base",
          "model_name": "LayoutModel",
          "state": {
            "_model_module": "@jupyter-widgets/base",
            "_model_module_version": "1.2.0",
            "_model_name": "LayoutModel",
            "_view_count": null,
            "_view_module": "@jupyter-widgets/base",
            "_view_module_version": "1.2.0",
            "_view_name": "LayoutView",
            "align_content": null,
            "align_items": null,
            "align_self": null,
            "border": null,
            "bottom": null,
            "display": null,
            "flex": null,
            "flex_flow": null,
            "grid_area": null,
            "grid_auto_columns": null,
            "grid_auto_flow": null,
            "grid_auto_rows": null,
            "grid_column": null,
            "grid_gap": null,
            "grid_row": null,
            "grid_template_areas": null,
            "grid_template_columns": null,
            "grid_template_rows": null,
            "height": null,
            "justify_content": null,
            "justify_items": null,
            "left": null,
            "margin": null,
            "max_height": null,
            "max_width": null,
            "min_height": null,
            "min_width": null,
            "object_fit": null,
            "object_position": null,
            "order": null,
            "overflow": null,
            "overflow_x": null,
            "overflow_y": null,
            "padding": null,
            "right": null,
            "top": null,
            "visibility": null,
            "width": null
          }
        },
        "90166847006646fa8fe57ef4a3675015": {
          "model_module": "@jupyter-widgets/base",
          "model_name": "LayoutModel",
          "state": {
            "_model_module": "@jupyter-widgets/base",
            "_model_module_version": "1.2.0",
            "_model_name": "LayoutModel",
            "_view_count": null,
            "_view_module": "@jupyter-widgets/base",
            "_view_module_version": "1.2.0",
            "_view_name": "LayoutView",
            "align_content": null,
            "align_items": null,
            "align_self": null,
            "border": null,
            "bottom": null,
            "display": null,
            "flex": null,
            "flex_flow": null,
            "grid_area": null,
            "grid_auto_columns": null,
            "grid_auto_flow": null,
            "grid_auto_rows": null,
            "grid_column": null,
            "grid_gap": null,
            "grid_row": null,
            "grid_template_areas": null,
            "grid_template_columns": null,
            "grid_template_rows": null,
            "height": null,
            "justify_content": null,
            "justify_items": null,
            "left": null,
            "margin": null,
            "max_height": null,
            "max_width": null,
            "min_height": null,
            "min_width": null,
            "object_fit": null,
            "object_position": null,
            "order": null,
            "overflow": null,
            "overflow_x": null,
            "overflow_y": null,
            "padding": null,
            "right": null,
            "top": null,
            "visibility": null,
            "width": null
          }
        },
        "3616c1de1dc94a26844ae90ed1948299": {
          "model_module": "@jupyter-widgets/controls",
          "model_name": "ProgressStyleModel",
          "state": {
            "_model_module": "@jupyter-widgets/controls",
            "_model_module_version": "1.5.0",
            "_model_name": "ProgressStyleModel",
            "_view_count": null,
            "_view_module": "@jupyter-widgets/base",
            "_view_module_version": "1.2.0",
            "_view_name": "StyleView",
            "bar_color": null,
            "description_width": "initial"
          }
        },
        "fbd55a396da14e96a98b511630ec5e8a": {
          "model_module": "@jupyter-widgets/base",
          "model_name": "LayoutModel",
          "state": {
            "_model_module": "@jupyter-widgets/base",
            "_model_module_version": "1.2.0",
            "_model_name": "LayoutModel",
            "_view_count": null,
            "_view_module": "@jupyter-widgets/base",
            "_view_module_version": "1.2.0",
            "_view_name": "LayoutView",
            "align_content": null,
            "align_items": null,
            "align_self": null,
            "border": null,
            "bottom": null,
            "display": null,
            "flex": null,
            "flex_flow": null,
            "grid_area": null,
            "grid_auto_columns": null,
            "grid_auto_flow": null,
            "grid_auto_rows": null,
            "grid_column": null,
            "grid_gap": null,
            "grid_row": null,
            "grid_template_areas": null,
            "grid_template_columns": null,
            "grid_template_rows": null,
            "height": null,
            "justify_content": null,
            "justify_items": null,
            "left": null,
            "margin": null,
            "max_height": null,
            "max_width": null,
            "min_height": null,
            "min_width": null,
            "object_fit": null,
            "object_position": null,
            "order": null,
            "overflow": null,
            "overflow_x": null,
            "overflow_y": null,
            "padding": null,
            "right": null,
            "top": null,
            "visibility": null,
            "width": null
          }
        },
        "41c57186beea47c4b14acf1019d7f813": {
          "model_module": "@jupyter-widgets/controls",
          "model_name": "DescriptionStyleModel",
          "state": {
            "_model_module": "@jupyter-widgets/controls",
            "_model_module_version": "1.5.0",
            "_model_name": "DescriptionStyleModel",
            "_view_count": null,
            "_view_module": "@jupyter-widgets/base",
            "_view_module_version": "1.2.0",
            "_view_name": "StyleView",
            "description_width": ""
          }
        },
        "5d83feae849a4bc0a5abbcc2e327dba8": {
          "model_module": "@jupyter-widgets/controls",
          "model_name": "HBoxModel",
          "state": {
            "_dom_classes": [],
            "_model_module": "@jupyter-widgets/controls",
            "_model_module_version": "1.5.0",
            "_model_name": "HBoxModel",
            "_view_count": null,
            "_view_module": "@jupyter-widgets/controls",
            "_view_module_version": "1.5.0",
            "_view_name": "HBoxView",
            "box_style": "",
            "children": [
              "IPY_MODEL_15818597bbf0421094220b53f69ead57",
              "IPY_MODEL_a330263f98b348dd9e0ded05f9519f61"
            ],
            "layout": "IPY_MODEL_48825c870150462fbd7b23d3b5c43ffc"
          }
        },
        "15818597bbf0421094220b53f69ead57": {
          "model_module": "@jupyter-widgets/controls",
          "model_name": "FloatProgressModel",
          "state": {
            "_dom_classes": [],
            "_model_module": "@jupyter-widgets/controls",
            "_model_module_version": "1.5.0",
            "_model_name": "FloatProgressModel",
            "_view_count": null,
            "_view_module": "@jupyter-widgets/controls",
            "_view_module_version": "1.5.0",
            "_view_name": "ProgressView",
            "bar_style": "success",
            "description": "",
            "description_tooltip": null,
            "layout": "IPY_MODEL_6375e84616604a4191b55c62c0c08060",
            "max": 1,
            "min": 0,
            "orientation": "horizontal",
            "style": "IPY_MODEL_37c22aafe1754eb9b993dedfd0e65209",
            "value": 1
          }
        },
        "a330263f98b348dd9e0ded05f9519f61": {
          "model_module": "@jupyter-widgets/controls",
          "model_name": "HTMLModel",
          "state": {
            "_dom_classes": [],
            "_model_module": "@jupyter-widgets/controls",
            "_model_module_version": "1.5.0",
            "_model_name": "HTMLModel",
            "_view_count": null,
            "_view_module": "@jupyter-widgets/controls",
            "_view_module_version": "1.5.0",
            "_view_name": "HTMLView",
            "description": "",
            "description_tooltip": null,
            "layout": "IPY_MODEL_21ca9654c5784145b3a27f6db7ceb13c",
            "placeholder": "​",
            "style": "IPY_MODEL_1a27c88ee3ce444181b80066efb93916",
            "value": " 8192/? [00:00&lt;00:00, 23223.29it/s]"
          }
        },
        "48825c870150462fbd7b23d3b5c43ffc": {
          "model_module": "@jupyter-widgets/base",
          "model_name": "LayoutModel",
          "state": {
            "_model_module": "@jupyter-widgets/base",
            "_model_module_version": "1.2.0",
            "_model_name": "LayoutModel",
            "_view_count": null,
            "_view_module": "@jupyter-widgets/base",
            "_view_module_version": "1.2.0",
            "_view_name": "LayoutView",
            "align_content": null,
            "align_items": null,
            "align_self": null,
            "border": null,
            "bottom": null,
            "display": null,
            "flex": null,
            "flex_flow": null,
            "grid_area": null,
            "grid_auto_columns": null,
            "grid_auto_flow": null,
            "grid_auto_rows": null,
            "grid_column": null,
            "grid_gap": null,
            "grid_row": null,
            "grid_template_areas": null,
            "grid_template_columns": null,
            "grid_template_rows": null,
            "height": null,
            "justify_content": null,
            "justify_items": null,
            "left": null,
            "margin": null,
            "max_height": null,
            "max_width": null,
            "min_height": null,
            "min_width": null,
            "object_fit": null,
            "object_position": null,
            "order": null,
            "overflow": null,
            "overflow_x": null,
            "overflow_y": null,
            "padding": null,
            "right": null,
            "top": null,
            "visibility": null,
            "width": null
          }
        },
        "6375e84616604a4191b55c62c0c08060": {
          "model_module": "@jupyter-widgets/base",
          "model_name": "LayoutModel",
          "state": {
            "_model_module": "@jupyter-widgets/base",
            "_model_module_version": "1.2.0",
            "_model_name": "LayoutModel",
            "_view_count": null,
            "_view_module": "@jupyter-widgets/base",
            "_view_module_version": "1.2.0",
            "_view_name": "LayoutView",
            "align_content": null,
            "align_items": null,
            "align_self": null,
            "border": null,
            "bottom": null,
            "display": null,
            "flex": null,
            "flex_flow": null,
            "grid_area": null,
            "grid_auto_columns": null,
            "grid_auto_flow": null,
            "grid_auto_rows": null,
            "grid_column": null,
            "grid_gap": null,
            "grid_row": null,
            "grid_template_areas": null,
            "grid_template_columns": null,
            "grid_template_rows": null,
            "height": null,
            "justify_content": null,
            "justify_items": null,
            "left": null,
            "margin": null,
            "max_height": null,
            "max_width": null,
            "min_height": null,
            "min_width": null,
            "object_fit": null,
            "object_position": null,
            "order": null,
            "overflow": null,
            "overflow_x": null,
            "overflow_y": null,
            "padding": null,
            "right": null,
            "top": null,
            "visibility": null,
            "width": null
          }
        },
        "37c22aafe1754eb9b993dedfd0e65209": {
          "model_module": "@jupyter-widgets/controls",
          "model_name": "ProgressStyleModel",
          "state": {
            "_model_module": "@jupyter-widgets/controls",
            "_model_module_version": "1.5.0",
            "_model_name": "ProgressStyleModel",
            "_view_count": null,
            "_view_module": "@jupyter-widgets/base",
            "_view_module_version": "1.2.0",
            "_view_name": "StyleView",
            "bar_color": null,
            "description_width": "initial"
          }
        },
        "21ca9654c5784145b3a27f6db7ceb13c": {
          "model_module": "@jupyter-widgets/base",
          "model_name": "LayoutModel",
          "state": {
            "_model_module": "@jupyter-widgets/base",
            "_model_module_version": "1.2.0",
            "_model_name": "LayoutModel",
            "_view_count": null,
            "_view_module": "@jupyter-widgets/base",
            "_view_module_version": "1.2.0",
            "_view_name": "LayoutView",
            "align_content": null,
            "align_items": null,
            "align_self": null,
            "border": null,
            "bottom": null,
            "display": null,
            "flex": null,
            "flex_flow": null,
            "grid_area": null,
            "grid_auto_columns": null,
            "grid_auto_flow": null,
            "grid_auto_rows": null,
            "grid_column": null,
            "grid_gap": null,
            "grid_row": null,
            "grid_template_areas": null,
            "grid_template_columns": null,
            "grid_template_rows": null,
            "height": null,
            "justify_content": null,
            "justify_items": null,
            "left": null,
            "margin": null,
            "max_height": null,
            "max_width": null,
            "min_height": null,
            "min_width": null,
            "object_fit": null,
            "object_position": null,
            "order": null,
            "overflow": null,
            "overflow_x": null,
            "overflow_y": null,
            "padding": null,
            "right": null,
            "top": null,
            "visibility": null,
            "width": null
          }
        },
        "1a27c88ee3ce444181b80066efb93916": {
          "model_module": "@jupyter-widgets/controls",
          "model_name": "DescriptionStyleModel",
          "state": {
            "_model_module": "@jupyter-widgets/controls",
            "_model_module_version": "1.5.0",
            "_model_name": "DescriptionStyleModel",
            "_view_count": null,
            "_view_module": "@jupyter-widgets/base",
            "_view_module_version": "1.2.0",
            "_view_name": "StyleView",
            "description_width": ""
          }
        }
      }
    }
  },
  "cells": [
    {
      "cell_type": "markdown",
      "metadata": {
        "id": "QQiYPbuXAsQ0"
      },
      "source": [
        "# Getting Started\n",
        "\n",
        "1. I have used colab because the second part of the Assignment was taking a lot of time on my computer.\n",
        "2. I have included all the graphs in output cells. You do not need to run the cells.\n",
        "3. I have included explaination/inferences in text boxes. 4. This notebook is organized properly. You can navigate seamlessly through the table of contents on the left hand side of the screen.\n",
        "\n",
        "Thank You"
      ]
    },
    {
      "cell_type": "markdown",
      "metadata": {
        "id": "WmHj-SMiEDPq"
      },
      "source": [
        "# Part A"
      ]
    },
    {
      "cell_type": "markdown",
      "metadata": {
        "id": "vaYBGxysDrHr"
      },
      "source": [
        "## Setting Up"
      ]
    },
    {
      "cell_type": "code",
      "metadata": {
        "id": "VC91492fFTF8",
        "outputId": "a090cbac-7aab-4193-9d97-b9707ea01fde",
        "colab": {
          "base_uri": "https://localhost:8080/"
        }
      },
      "source": [
        "!git clone https://github.com/cs60021SDM/LargeScaleML.git"
      ],
      "execution_count": null,
      "outputs": [
        {
          "output_type": "stream",
          "text": [
            "Cloning into 'LargeScaleML'...\n",
            "remote: Enumerating objects: 26, done.\u001b[K\n",
            "remote: Counting objects: 100% (26/26), done.\u001b[K\n",
            "remote: Compressing objects: 100% (24/24), done.\u001b[K\n",
            "remote: Total 26 (delta 10), reused 0 (delta 0), pack-reused 0\u001b[K\n",
            "Unpacking objects: 100% (26/26), done.\n"
          ],
          "name": "stdout"
        }
      ]
    },
    {
      "cell_type": "code",
      "metadata": {
        "id": "fkufayqVFmNy",
        "outputId": "d1946427-6a04-45cc-e9ac-89a71b2d7d44",
        "colab": {
          "base_uri": "https://localhost:8080/"
        }
      },
      "source": [
        "%cd LargeScaleML"
      ],
      "execution_count": null,
      "outputs": [
        {
          "output_type": "stream",
          "text": [
            "/content/LargeScaleML\n"
          ],
          "name": "stdout"
        }
      ]
    },
    {
      "cell_type": "code",
      "metadata": {
        "id": "yBudc8UkMk_y"
      },
      "source": [
        "import sys\n",
        "import matplotlib.pyplot as plt\n",
        "import random\n",
        "import time\n",
        "import numpy as np\n",
        "from sklearn import metrics\n",
        "from math import sqrt\n",
        "from sklearn.model_selection import train_test_split"
      ],
      "execution_count": null,
      "outputs": []
    },
    {
      "cell_type": "markdown",
      "metadata": {
        "id": "3VMqETM1Bz6f"
      },
      "source": [
        "## Dataset Loading"
      ]
    },
    {
      "cell_type": "code",
      "metadata": {
        "id": "8Fjz81eRF2UB",
        "outputId": "bc153a00-695d-46f0-ea2a-a071dd659d6a",
        "colab": {
          "base_uri": "https://localhost:8080/"
        }
      },
      "source": [
        "data = np.loadtxt('LinearRegdata.txt')\n",
        "x = data[:, 1]\n",
        "y = data[:, 2]\n",
        "\n",
        "for i in range(0,5):\n",
        "  print(\"x[\",i,\"] = \",x[i],\",\",\"y[\",i,\"] = \",y[i])"
      ],
      "execution_count": null,
      "outputs": [
        {
          "output_type": "stream",
          "text": [
            "x[ 0 ] =  0.067732 , y[ 0 ] =  3.176513\n",
            "x[ 1 ] =  0.42781 , y[ 1 ] =  3.816464\n",
            "x[ 2 ] =  0.995731 , y[ 2 ] =  4.550095\n",
            "x[ 3 ] =  0.738336 , y[ 3 ] =  4.256571\n",
            "x[ 4 ] =  0.981083 , y[ 4 ] =  4.560815\n"
          ],
          "name": "stdout"
        }
      ]
    },
    {
      "cell_type": "code",
      "metadata": {
        "id": "Rtgm6aVtOQqu"
      },
      "source": [
        "x_max = max(x)\n",
        "x_min = min(x)\n",
        "y_max = max(y)\n",
        "y_min = min(y)\n",
        "for i in range(0, len(x)):\n",
        "    x[i] = (x[i] - x_min)/(x_max - x_min)\n",
        "    y[i] = (y[i] - y_min)/(y_max - y_min)\n",
        "\n",
        "X_train, X_test, y_train, y_test = train_test_split(x, y, test_size=0.3,random_state=109)"
      ],
      "execution_count": null,
      "outputs": []
    },
    {
      "cell_type": "markdown",
      "metadata": {
        "id": "5o7-ZEZiCBe5"
      },
      "source": [
        "## Handy Functions"
      ]
    },
    {
      "cell_type": "code",
      "metadata": {
        "id": "m8m1KKBxWfdO"
      },
      "source": [
        "def diffa(y, ypred,x):\n",
        "    return (y-ypred)*(-x)\n",
        "\n",
        "def diffb(y, ypred):\n",
        "    return (y-ypred)*(-1)"
      ],
      "execution_count": null,
      "outputs": []
    },
    {
      "cell_type": "code",
      "metadata": {
        "id": "p3oR94rQWn5m"
      },
      "source": [
        "def calc_grads(a, b, X_train, y_train):\n",
        "    loss = 0\n",
        "    losst = 0\n",
        "    all_da = 0\n",
        "    all_db = 0\n",
        "    for i in range(0, len(X_train)):\n",
        "        y_pred = a*X_train[i] + b\n",
        "        loss = loss + (y_train[i] - y_pred)*(y_train[i] - y_pred)/2\n",
        "        all_da = all_da + diffa(y_train[i], y_pred, X_train[i]) #gradients accumulated\n",
        "        all_db = all_db + diffb(y_train[i], y_pred) #gradients accumulated\n",
        "\n",
        "    loss = loss/len(X_train)\n",
        "    return (all_da, all_db, loss)"
      ],
      "execution_count": null,
      "outputs": []
    },
    {
      "cell_type": "code",
      "metadata": {
        "id": "GwlDsEaGW3b4"
      },
      "source": [
        "def apply_grads(a, b, da, db, rate):\n",
        "    return (a - rate * da, b - rate * db)"
      ],
      "execution_count": null,
      "outputs": []
    },
    {
      "cell_type": "code",
      "metadata": {
        "id": "9jB_3_FUXBhH"
      },
      "source": [
        "def calc_test_loss(a, b, X_test, y_test):\n",
        "    losst = 0\n",
        "    for i in range(0, len(X_test)):\n",
        "        y_pred = a*X_test[i] + b\n",
        "        losst = losst + (y_test[i] - y_pred)*(y_test[i] - y_pred)/2\n",
        "    return losst/len(X_test)"
      ],
      "execution_count": null,
      "outputs": []
    },
    {
      "cell_type": "markdown",
      "metadata": {
        "id": "aovaH8WhCD_O"
      },
      "source": [
        "## Constants Declarations"
      ]
    },
    {
      "cell_type": "code",
      "metadata": {
        "id": "uswwVx7QB-dX"
      },
      "source": [
        "NUM_EPOCHS = 100"
      ],
      "execution_count": null,
      "outputs": []
    },
    {
      "cell_type": "markdown",
      "metadata": {
        "id": "M9o7bsQiCGBM"
      },
      "source": [
        "## Batch Gradient Descent"
      ]
    },
    {
      "cell_type": "code",
      "metadata": {
        "id": "iTMQYrxaXOnj"
      },
      "source": [
        "def batch_gd(X_train, y_train, X_test, y_test):\n",
        "\n",
        "    a = 10.0\n",
        "    b = -20.0\n",
        "    rate = 0.008\n",
        "\n",
        "    best_a = None\n",
        "    best_b = None\n",
        "    losses = []\n",
        "    step_losses = []\n",
        "\n",
        "    prevloss = 1e9\n",
        "    num_updates = 0\n",
        "\n",
        "    for ep in range(0, NUM_EPOCHS):\n",
        "\n",
        "        (da, db, loss) = calc_grads(a, b, X_train, y_train)\n",
        "        (a, b) = apply_grads(a, b, da, db, rate)\n",
        "        losst = calc_test_loss(a, b, X_test, y_test)\n",
        "\n",
        "        losses.append(loss)\n",
        "        step_losses.append(loss)\n",
        "        num_updates += 1\n",
        "        \n",
        "        if losst<prevloss:\n",
        "            prevloss=losst\n",
        "            best_a = a\n",
        "            best_b = b\n",
        "\n",
        "    rms_error = sqrt(calc_test_loss(a, b, X_test, y_test))\n",
        "    return ((list(range(0, NUM_EPOCHS)), losses), (list(range(0, num_updates)), step_losses), rms_error)"
      ],
      "execution_count": null,
      "outputs": []
    },
    {
      "cell_type": "code",
      "metadata": {
        "id": "f5_S8C_3XsYv",
        "outputId": "2389c2fb-4c3d-4786-886c-f856699b2496",
        "colab": {
          "base_uri": "https://localhost:8080/",
          "height": 298
        }
      },
      "source": [
        "batch_gd_res = batch_gd(X_train, y_train, X_test, y_test)\n",
        "plt.title(\"Epoch wise plot\")\n",
        "plt.plot(batch_gd_res[0][0], batch_gd_res[0][1])"
      ],
      "execution_count": null,
      "outputs": [
        {
          "output_type": "execute_result",
          "data": {
            "text/plain": [
              "[<matplotlib.lines.Line2D at 0x7fb1a856e710>]"
            ]
          },
          "metadata": {
            "tags": []
          },
          "execution_count": 12
        },
        {
          "output_type": "display_data",
          "data": {
            "image/png": "[encoded data removed]",
            "text/plain": [
              "<Figure size 432x288 with 1 Axes>"
            ]
          },
          "metadata": {
            "tags": []
          }
        }
      ]
    },
    {
      "cell_type": "code",
      "metadata": {
        "id": "KoXqjUo6ssli",
        "outputId": "46c395bf-c3f1-42b5-f7ca-a9996c6ade8f",
        "colab": {
          "base_uri": "https://localhost:8080/",
          "height": 298
        }
      },
      "source": [
        "plt.title(\"Step wise plot\")\n",
        "plt.plot(batch_gd_res[1][0], batch_gd_res[1][1])"
      ],
      "execution_count": null,
      "outputs": [
        {
          "output_type": "execute_result",
          "data": {
            "text/plain": [
              "[<matplotlib.lines.Line2D at 0x7fb1a856ecc0>]"
            ]
          },
          "metadata": {
            "tags": []
          },
          "execution_count": 13
        },
        {
          "output_type": "display_data",
          "data": {
            "image/png": "[encoded data removed]",
            "text/plain": [
              "<Figure size 432x288 with 1 Axes>"
            ]
          },
          "metadata": {
            "tags": []
          }
        }
      ]
    },
    {
      "cell_type": "markdown",
      "metadata": {
        "id": "EDdxZZUy-llc"
      },
      "source": [
        "#### Explaination\n",
        "The epoch wise plot is the same as the step wise plot, because we update all the variables in one step for the entire dataset."
      ]
    },
    {
      "cell_type": "markdown",
      "metadata": {
        "id": "nUQAZIIVCW0h"
      },
      "source": [
        "## Mini Batch Gradient Descent"
      ]
    },
    {
      "cell_type": "code",
      "metadata": {
        "id": "H9WUNjJQX50w"
      },
      "source": [
        "def shuffle_data(x,y):\n",
        "    # shuffle x，y，while keeping x_i corresponding to y_i\n",
        "    seed = random.random()\n",
        "    random.seed(seed)\n",
        "    random.shuffle(x)\n",
        "    random.seed(seed)\n",
        "    random.shuffle(y)\n",
        "\n",
        "def minibatch_gd(X_train, y_train, X_test, y_test):\n",
        "    a = 10.0\n",
        "    b = -20.0\n",
        "    rate = 0.002\n",
        "    batch_size = 10\n",
        "\n",
        "    NUM_BATCHES = int(len(X_train)/batch_size)\n",
        "\n",
        "    best_a = None\n",
        "    best_b = None\n",
        "    losses = []\n",
        "    step_losses = []\n",
        "\n",
        "    prevloss = 1e9\n",
        "    num_updates = 0\n",
        "\n",
        "    for ep in range(0, NUM_EPOCHS):\n",
        "        loss = 0\n",
        "\n",
        "        for batch in range(0, NUM_BATCHES):\n",
        "            shuffle_data(x, y)\n",
        "            X_batch = x[0:batch_size]\n",
        "            y_batch = y[0:batch_size]\n",
        "\n",
        "            (da, db, loss_batch) = calc_grads(a, b, X_batch, y_batch)\n",
        "            (a, b) = apply_grads(a, b, da, db, rate)\n",
        "            losst = calc_test_loss(a, b, X_test, y_test)\n",
        "\n",
        "            loss += loss_batch\n",
        "            step_losses.append(loss_batch)\n",
        "            num_updates += 1\n",
        "\n",
        "            if losst<prevloss:\n",
        "                prevloss=losst\n",
        "                best_a = a\n",
        "                best_b = b\n",
        "\n",
        "        loss = loss/NUM_BATCHES\n",
        "        losses.append(loss)\n",
        "\n",
        "    rms_error = sqrt(calc_test_loss(a, b, X_test, y_test))\n",
        "    return ((list(range(0, NUM_EPOCHS)), losses), (list(range(0, num_updates)), step_losses), rms_error)"
      ],
      "execution_count": null,
      "outputs": []
    },
    {
      "cell_type": "code",
      "metadata": {
        "id": "OOcygZMocbfq",
        "outputId": "1456fe18-f2aa-41ac-9607-3c0ae27ae77a",
        "colab": {
          "base_uri": "https://localhost:8080/",
          "height": 298
        }
      },
      "source": [
        "minibatch_gd_res = minibatch_gd(X_train, y_train, X_test, y_test)\n",
        "plt.title(\"Epoch wise plot\")\n",
        "plt.plot(minibatch_gd_res[0][0], minibatch_gd_res[0][1])"
      ],
      "execution_count": null,
      "outputs": [
        {
          "output_type": "execute_result",
          "data": {
            "text/plain": [
              "[<matplotlib.lines.Line2D at 0x7fb1a800cdd8>]"
            ]
          },
          "metadata": {
            "tags": []
          },
          "execution_count": 15
        },
        {
          "output_type": "display_data",
          "data": {
            "image/png": "[encoded data removed]",
            "text/plain": [
              "<Figure size 432x288 with 1 Axes>"
            ]
          },
          "metadata": {
            "tags": []
          }
        }
      ]
    },
    {
      "cell_type": "code",
      "metadata": {
        "id": "XOjjnVyhtGFN",
        "outputId": "ccc4ce8e-f040-4567-fe9e-ddb7cb05da76",
        "colab": {
          "base_uri": "https://localhost:8080/",
          "height": 298
        }
      },
      "source": [
        "plt.title(\"Step wise plot\")\n",
        "plt.plot(minibatch_gd_res[1][0], minibatch_gd_res[1][1])"
      ],
      "execution_count": null,
      "outputs": [
        {
          "output_type": "execute_result",
          "data": {
            "text/plain": [
              "[<matplotlib.lines.Line2D at 0x7fb1a8035470>]"
            ]
          },
          "metadata": {
            "tags": []
          },
          "execution_count": 16
        },
        {
          "output_type": "display_data",
          "data": {
            "image/png": "[encoded data removed]",
            "text/plain": [
              "<Figure size 432x288 with 1 Axes>"
            ]
          },
          "metadata": {
            "tags": []
          }
        }
      ]
    },
    {
      "cell_type": "markdown",
      "metadata": {
        "id": "xaMA20sJ-xye"
      },
      "source": [
        "#### Explaination\n",
        "The step wise plot is jittery as expected, while the averaged epoch wise plot is smooth. Both are decreasing overall."
      ]
    },
    {
      "cell_type": "markdown",
      "metadata": {
        "id": "7ArX2h7iDIPl"
      },
      "source": [
        "## Stochastic Gradient Descent"
      ]
    },
    {
      "cell_type": "code",
      "metadata": {
        "id": "JnLPHNwpcfn9"
      },
      "source": [
        "def stochastic_gd(X_train, y_train, X_test, y_test):\n",
        "    a = 10.0\n",
        "    b = -20.0\n",
        "    rate = 0.02\n",
        "\n",
        "    best_a = None\n",
        "    best_b = None\n",
        "    losses = []\n",
        "    step_losses = []\n",
        "\n",
        "    prevloss = 1e9\n",
        "    num_updates = 0\n",
        "\n",
        "    for ep in range(0, NUM_EPOCHS):\n",
        "        loss = 0\n",
        "\n",
        "        for i in range(0, len(X_train)):\n",
        "\n",
        "            (da, db, loss_i) = calc_grads(a, b, [X_train[i]], [y_train[i]])\n",
        "            (a, b) = apply_grads(a, b, da, db, rate)\n",
        "            losst = calc_test_loss(a, b, X_test, y_test)\n",
        "\n",
        "            step_losses.append(loss_i)\n",
        "            num_updates += 1\n",
        "\n",
        "            loss += loss_i\n",
        "\n",
        "            if losst<prevloss:\n",
        "                prevloss=losst\n",
        "                best_a = a\n",
        "                best_b = b\n",
        "\n",
        "        loss = loss/len(X_train)\n",
        "        losses.append(loss)\n",
        "\n",
        "    rms_error = sqrt(calc_test_loss(a, b, X_test, y_test))\n",
        "    return ((list(range(0, NUM_EPOCHS)), losses), (list(range(0, num_updates)), step_losses), rms_error)"
      ],
      "execution_count": null,
      "outputs": []
    },
    {
      "cell_type": "code",
      "metadata": {
        "id": "0_vE4QYsiHHy",
        "outputId": "7347a901-9540-4ae3-ca7c-18ee18542994",
        "colab": {
          "base_uri": "https://localhost:8080/",
          "height": 298
        }
      },
      "source": [
        "stochastic_gd_res = stochastic_gd(X_train, y_train, X_test, y_test)\n",
        "plt.title(\"Epoch wise plot\")\n",
        "plt.plot(stochastic_gd_res[0][0], stochastic_gd_res[0][1])"
      ],
      "execution_count": null,
      "outputs": [
        {
          "output_type": "execute_result",
          "data": {
            "text/plain": [
              "[<matplotlib.lines.Line2D at 0x7fb1a7f2ff60>]"
            ]
          },
          "metadata": {
            "tags": []
          },
          "execution_count": 18
        },
        {
          "output_type": "display_data",
          "data": {
            "image/png": "[encoded data removed]",
            "text/plain": [
              "<Figure size 432x288 with 1 Axes>"
            ]
          },
          "metadata": {
            "tags": []
          }
        }
      ]
    },
    {
      "cell_type": "code",
      "metadata": {
        "id": "OtwoZdH7tdgT",
        "outputId": "d9cdac4a-8ce0-4796-9487-8df8b683f3d2",
        "colab": {
          "base_uri": "https://localhost:8080/",
          "height": 298
        }
      },
      "source": [
        "plt.title(\"Step wise plot\")\n",
        "plt.plot(stochastic_gd_res[1][0], stochastic_gd_res[1][1])"
      ],
      "execution_count": null,
      "outputs": [
        {
          "output_type": "execute_result",
          "data": {
            "text/plain": [
              "[<matplotlib.lines.Line2D at 0x7fb1a8489f98>]"
            ]
          },
          "metadata": {
            "tags": []
          },
          "execution_count": 19
        },
        {
          "output_type": "display_data",
          "data": {
            "image/png": "[encoded data removed]",
            "text/plain": [
              "<Figure size 432x288 with 1 Axes>"
            ]
          },
          "metadata": {
            "tags": []
          }
        }
      ]
    },
    {
      "cell_type": "markdown",
      "metadata": {
        "id": "7nCHIh6b_HaQ"
      },
      "source": [
        "#### Explaination\n",
        "We see that the step wise plot is very jittery compared to minibatch, because of many more step updates. The averaged epoch wise loss plot is smooth but less steeper than minibatch, whcih is expected."
      ]
    },
    {
      "cell_type": "markdown",
      "metadata": {
        "id": "Zjy02yxyDR7m"
      },
      "source": [
        "## Momentum Gradient Descent"
      ]
    },
    {
      "cell_type": "code",
      "metadata": {
        "id": "OUUNf1TMia46"
      },
      "source": [
        "def momentum_gd(X_train, y_train, X_test, y_test):\n",
        "\n",
        "    a = 10.0\n",
        "    b = -20.0\n",
        "    rate = 0.02\n",
        "    dva = 0\n",
        "    dvb = 0\n",
        "    gamma = 0.9\n",
        "\n",
        "    best_a = None\n",
        "    best_b = None\n",
        "    losses = []\n",
        "    step_losses = []\n",
        "\n",
        "    prevloss = 1e9\n",
        "    num_updates = 0\n",
        "\n",
        "    for ep in range(0, NUM_EPOCHS):\n",
        "\n",
        "        (da, db, loss) = calc_grads(a, b, X_train, y_train)\n",
        "\n",
        "        dva = gamma * dva + da\n",
        "        dvb = gamma * dvb + db\n",
        "\n",
        "        (a, b) = apply_grads(a, b, dva, dvb, rate)\n",
        "        losst = calc_test_loss(a, b, X_test, y_test)\n",
        "\n",
        "        losses.append(loss)\n",
        "        step_losses.append(loss)\n",
        "        num_updates += 1\n",
        "        \n",
        "        if losst<prevloss:\n",
        "            prevloss=losst\n",
        "            best_a = a\n",
        "            best_b = b\n",
        "\n",
        "    rms_error = sqrt(calc_test_loss(a, b, X_test, y_test))\n",
        "    return ((list(range(0, NUM_EPOCHS)), losses), (list(range(0, num_updates)), step_losses), rms_error)"
      ],
      "execution_count": null,
      "outputs": []
    },
    {
      "cell_type": "code",
      "metadata": {
        "id": "y7YisSqhkqda",
        "outputId": "af72ad6d-a264-4a55-a610-4f5149519dd1",
        "colab": {
          "base_uri": "https://localhost:8080/",
          "height": 298
        }
      },
      "source": [
        "momentum_gd_res = momentum_gd(X_train, y_train, X_test, y_test)\n",
        "plt.title(\"Epoch wise plot\")\n",
        "plt.plot(momentum_gd_res[0][0], momentum_gd_res[0][1])"
      ],
      "execution_count": null,
      "outputs": [
        {
          "output_type": "execute_result",
          "data": {
            "text/plain": [
              "[<matplotlib.lines.Line2D at 0x7fb1a7f38c88>]"
            ]
          },
          "metadata": {
            "tags": []
          },
          "execution_count": 21
        },
        {
          "output_type": "display_data",
          "data": {
            "image/png": "[encoded data removed]",
            "text/plain": [
              "<Figure size 432x288 with 1 Axes>"
            ]
          },
          "metadata": {
            "tags": []
          }
        }
      ]
    },
    {
      "cell_type": "code",
      "metadata": {
        "id": "2YJdoK78t0Kg",
        "outputId": "0b0130ea-fc9d-478d-8952-35b814550546",
        "colab": {
          "base_uri": "https://localhost:8080/",
          "height": 298
        }
      },
      "source": [
        "plt.title(\"Step wise plot\")\n",
        "plt.plot(momentum_gd_res[1][0], momentum_gd_res[1][1])"
      ],
      "execution_count": null,
      "outputs": [
        {
          "output_type": "execute_result",
          "data": {
            "text/plain": [
              "[<matplotlib.lines.Line2D at 0x7fb1a7db80b8>]"
            ]
          },
          "metadata": {
            "tags": []
          },
          "execution_count": 22
        },
        {
          "output_type": "display_data",
          "data": {
            "image/png": "[encoded data removed]",
            "text/plain": [
              "<Figure size 432x288 with 1 Axes>"
            ]
          },
          "metadata": {
            "tags": []
          }
        }
      ]
    },
    {
      "cell_type": "markdown",
      "metadata": {
        "id": "-KFmwFej_Y3P"
      },
      "source": [
        "#### Explaination\n",
        "Here, we get the typical wavy plot because of momentum."
      ]
    },
    {
      "cell_type": "markdown",
      "metadata": {
        "id": "qQPw-B0iDYhR"
      },
      "source": [
        "## Adam Gradient Descent"
      ]
    },
    {
      "cell_type": "code",
      "metadata": {
        "id": "zwkOnqOgk2F_"
      },
      "source": [
        "def adam_gd(X_train, y_train, X_test, y_test):\n",
        "    a = 10.0\n",
        "    b = -20.0\n",
        "    rate = 0.2\n",
        "    epsilon = 1e-7\n",
        "    \n",
        "    vda = 0\n",
        "    vdb = 0\n",
        "\n",
        "    sda = 0\n",
        "    sdb = 0\n",
        "\n",
        "    beta1 = 0.9\n",
        "    beta2 = 0.999\n",
        "\n",
        "    beta1_t = 1\n",
        "    beta2_t = 1\n",
        "\n",
        "    best_a = None\n",
        "    best_b = None\n",
        "    losses = []\n",
        "    step_losses = []\n",
        "\n",
        "    prevloss = 1e9\n",
        "    num_updates = 0\n",
        "\n",
        "    for ep in range(0, NUM_EPOCHS):\n",
        "\n",
        "        (da, db, loss) = calc_grads(a, b, X_train, y_train)\n",
        "\n",
        "        vda = beta1 * vda + (1 - beta1) * da\n",
        "        vdb = beta1 * vdb + (1 - beta1) * db\n",
        "\n",
        "        sda = beta2 * sda + (1 - beta2) * da * da\n",
        "        sdb = beta2 * sdb + (1 - beta2) * db * db\n",
        "\n",
        "        beta1_t = beta1_t * beta1\n",
        "        beta2_t = beta2_t * beta2\n",
        "\n",
        "        vda_corr = vda / (1 - beta1_t)\n",
        "        vdb_corr = vdb / (1 - beta1_t)\n",
        "\n",
        "        sda_corr = sda / (1 - beta2_t)\n",
        "        sdb_corr = sdb / (1 - beta2_t)\n",
        "\n",
        "        da_adam = vda_corr / (sqrt(sda_corr) + epsilon)\n",
        "        db_adam = vdb_corr / (sqrt(sdb_corr) + epsilon)\n",
        "\n",
        "        (a, b) = apply_grads(a, b, da_adam, db_adam, rate)\n",
        "        losst = calc_test_loss(a, b, X_test, y_test)\n",
        "\n",
        "        losses.append(loss)\n",
        "        step_losses.append(loss)\n",
        "        num_updates += 1\n",
        "        \n",
        "        if losst<prevloss:\n",
        "            prevloss=losst\n",
        "            best_a = a\n",
        "            best_b = b\n",
        "\n",
        "    rms_error = sqrt(calc_test_loss(a, b, X_test, y_test))\n",
        "    return ((list(range(0, NUM_EPOCHS)), losses), (list(range(0, num_updates)), step_losses), rms_error)"
      ],
      "execution_count": null,
      "outputs": []
    },
    {
      "cell_type": "code",
      "metadata": {
        "id": "Zic0Eos1rhGk",
        "outputId": "0bf30f60-9ace-4db7-c6b6-dac9c0e4eeee",
        "colab": {
          "base_uri": "https://localhost:8080/",
          "height": 298
        }
      },
      "source": [
        "adam_gd_res = adam_gd(X_train, y_train, X_test, y_test)\n",
        "plt.title(\"Epoch wise plot\")\n",
        "plt.plot(adam_gd_res[0][0], adam_gd_res[0][1])"
      ],
      "execution_count": null,
      "outputs": [
        {
          "output_type": "execute_result",
          "data": {
            "text/plain": [
              "[<matplotlib.lines.Line2D at 0x7fb1a7f2a0b8>]"
            ]
          },
          "metadata": {
            "tags": []
          },
          "execution_count": 24
        },
        {
          "output_type": "display_data",
          "data": {
            "image/png": "[encoded data removed]",
            "text/plain": [
              "<Figure size 432x288 with 1 Axes>"
            ]
          },
          "metadata": {
            "tags": []
          }
        }
      ]
    },
    {
      "cell_type": "code",
      "metadata": {
        "id": "T4Tx3hS6rlQL",
        "outputId": "991322ea-e40a-4312-dc46-499cb656c4d6",
        "colab": {
          "base_uri": "https://localhost:8080/",
          "height": 298
        }
      },
      "source": [
        "plt.title(\"Step wise plot\")\n",
        "plt.plot(adam_gd_res[1][0], adam_gd_res[1][1])"
      ],
      "execution_count": null,
      "outputs": [
        {
          "output_type": "execute_result",
          "data": {
            "text/plain": [
              "[<matplotlib.lines.Line2D at 0x7fb1a7c50e80>]"
            ]
          },
          "metadata": {
            "tags": []
          },
          "execution_count": 25
        },
        {
          "output_type": "display_data",
          "data": {
            "image/png": "[encoded data removed]",
            "text/plain": [
              "<Figure size 432x288 with 1 Axes>"
            ]
          },
          "metadata": {
            "tags": []
          }
        }
      ]
    },
    {
      "cell_type": "markdown",
      "metadata": {
        "id": "7zEjEXJX_jaz"
      },
      "source": [
        "#### Explaination\n",
        "The plot is much less steeper in the beginning as compared to the other methods. Also, we get the same plot because one step = one epoch, since we are using the entire dataset."
      ]
    },
    {
      "cell_type": "markdown",
      "metadata": {
        "id": "ncLNzgFJDiqa"
      },
      "source": [
        "## Comparison"
      ]
    },
    {
      "cell_type": "code",
      "metadata": {
        "id": "440CRFjQuLh8",
        "outputId": "097ed2b3-e91f-49ca-ca48-792cb034feaa",
        "colab": {
          "base_uri": "https://localhost:8080/",
          "height": 282
        }
      },
      "source": [
        "plt.bar([\"batch\", \"minibatch\", \"stochastic\", \"momentum\", \"adam\"], \n",
        "        [batch_gd_res[2], minibatch_gd_res[2], stochastic_gd_res[2], momentum_gd_res[2], adam_gd_res[2]])"
      ],
      "execution_count": null,
      "outputs": [
        {
          "output_type": "execute_result",
          "data": {
            "text/plain": [
              "<BarContainer object of 5 artists>"
            ]
          },
          "metadata": {
            "tags": []
          },
          "execution_count": 26
        },
        {
          "output_type": "display_data",
          "data": {
            "image/png": "[encoded data removed]",
            "text/plain": [
              "<Figure size 432x288 with 1 Axes>"
            ]
          },
          "metadata": {
            "tags": []
          }
        }
      ]
    },
    {
      "cell_type": "markdown",
      "metadata": {
        "id": "Upe2fPH__zeQ"
      },
      "source": [
        "#### Explaination\n",
        "For the same no. of epochs it is expected for the batch gradient descent to perform better, which we see in the plot."
      ]
    },
    {
      "cell_type": "markdown",
      "metadata": {
        "id": "B2NhSgnGDmHA"
      },
      "source": [
        "# Part B"
      ]
    },
    {
      "cell_type": "markdown",
      "metadata": {
        "id": "xk13FaCvEdPU"
      },
      "source": [
        "## Setting Up"
      ]
    },
    {
      "cell_type": "code",
      "metadata": {
        "id": "aLjgJLDxujBG"
      },
      "source": [
        "import torch\n",
        "from __future__ import print_function\n",
        "import argparse\n",
        "import torch\n",
        "import torch.nn as nn\n",
        "import torch.nn.functional as F\n",
        "import torch.optim as optim\n",
        "import matplotlib.pyplot as plt\n",
        "from torchvision import datasets, transforms\n",
        "from torch.optim.lr_scheduler import StepLR"
      ],
      "execution_count": null,
      "outputs": []
    },
    {
      "cell_type": "code",
      "metadata": {
        "id": "d1mfthQ2u6QP",
        "outputId": "f7f9c281-d3ad-42aa-b4fc-a98db8f965ee",
        "colab": {
          "base_uri": "https://localhost:8080/"
        }
      },
      "source": [
        "no_cuda = False\n",
        "use_cuda = not no_cuda and torch.cuda.is_available()\n",
        "torch.manual_seed(1)\n",
        "device = torch.device(\"cuda\" if use_cuda else \"cpu\")\n",
        "print(device)\n",
        "batch_size = 64\n",
        "\n",
        "kwargs = {'batch_size': 64}\n",
        "if use_cuda:\n",
        "  kwargs.update({'num_workers': 1,\n",
        "                       'pin_memory': True,\n",
        "                       'shuffle': True},\n",
        "                     )"
      ],
      "execution_count": null,
      "outputs": [
        {
          "output_type": "stream",
          "text": [
            "cuda\n"
          ],
          "name": "stdout"
        }
      ]
    },
    {
      "cell_type": "markdown",
      "metadata": {
        "id": "7pKZnvgBEf_u"
      },
      "source": [
        "## Data Loading"
      ]
    },
    {
      "cell_type": "code",
      "metadata": {
        "id": "lyx3A6J6vBb8",
        "outputId": "f8f60a0d-7557-4940-d89d-afb0c67b7025",
        "colab": {
          "base_uri": "https://localhost:8080/",
          "height": 420,
          "referenced_widgets": [
            "611109067261498e990cf27e70a4b0c6",
            "f51bdb674461415bb24d0d14b3a4d288",
            "62f1f7ab14674799b107f60268d28bb0",
            "dc0e8e4d2bab418fb6893090b2e4969b",
            "12b4e7b8b28c405c9ec77aa2d941d601",
            "39efbd3eaab340c48d763d2bf8b4c975",
            "ce891633f962493baf4f8979f89ed175",
            "45a856cc4c2540a6a725ae9616e1e917",
            "768cca8a2a534d02bb29d772f5ada85b",
            "9e313830d0d44b219f87d85bce1eba03",
            "9ac85f1a9d824c0db49186421cb91060",
            "bb84d2d6b66b4d7096db946e695c36d1",
            "13703645dc3641a4820e8d7e455ba079",
            "df45dcbc91d849c0a72e0dcee22c90fd",
            "db1ef86f92a34fd28c71f9c7c6203ff6",
            "816166313b174b359021d007e3759bfe",
            "a6d9167854ce45659d2a9c0473374012",
            "de84b0e4e5494f0688f99b5a35c72cf1",
            "dbfed1cf6207453fbc251c68e2e66bc1",
            "c5a64b61109543b4a9e243cfbe1c7307",
            "90166847006646fa8fe57ef4a3675015",
            "3616c1de1dc94a26844ae90ed1948299",
            "fbd55a396da14e96a98b511630ec5e8a",
            "41c57186beea47c4b14acf1019d7f813",
            "5d83feae849a4bc0a5abbcc2e327dba8",
            "15818597bbf0421094220b53f69ead57",
            "a330263f98b348dd9e0ded05f9519f61",
            "48825c870150462fbd7b23d3b5c43ffc",
            "6375e84616604a4191b55c62c0c08060",
            "37c22aafe1754eb9b993dedfd0e65209",
            "21ca9654c5784145b3a27f6db7ceb13c",
            "1a27c88ee3ce444181b80066efb93916"
          ]
        }
      },
      "source": [
        "transform=transforms.Compose([\n",
        "        transforms.ToTensor(),\n",
        "        transforms.Normalize((0.1307,), (0.3081,))\n",
        "        ])\n",
        "dataset1 = datasets.MNIST('./', train=True, download=True,\n",
        "                       transform=transform)\n",
        "dataset2 = datasets.MNIST('./', train=False,\n",
        "                       transform=transform)\n",
        "train_loader = torch.utils.data.DataLoader(dataset1,**kwargs)\n",
        "test_loader = torch.utils.data.DataLoader(dataset2, **kwargs)\n",
        "\n",
        "images, labels = next(iter(train_loader))"
      ],
      "execution_count": null,
      "outputs": [
        {
          "output_type": "stream",
          "text": [
            "Downloading http://yann.lecun.com/exdb/mnist/train-images-idx3-ubyte.gz to ./MNIST/raw/train-images-idx3-ubyte.gz\n"
          ],
          "name": "stdout"
        },
        {
          "output_type": "display_data",
          "data": {
            "application/vnd.jupyter.widget-view+json": {
              "model_id": "611109067261498e990cf27e70a4b0c6",
              "version_major": 2,
              "version_minor": 0
            },
            "text/plain": [
              "HBox(children=(FloatProgress(value=1.0, bar_style='info', max=1.0), HTML(value='')))"
            ]
          },
          "metadata": {
            "tags": []
          }
        },
        {
          "output_type": "stream",
          "text": [
            "Extracting ./MNIST/raw/train-images-idx3-ubyte.gz to ./MNIST/raw\n",
            "Downloading http://yann.lecun.com/exdb/mnist/train-labels-idx1-ubyte.gz to ./MNIST/raw/train-labels-idx1-ubyte.gz\n"
          ],
          "name": "stdout"
        },
        {
          "output_type": "display_data",
          "data": {
            "application/vnd.jupyter.widget-view+json": {
              "model_id": "768cca8a2a534d02bb29d772f5ada85b",
              "version_major": 2,
              "version_minor": 0
            },
            "text/plain": [
              "HBox(children=(FloatProgress(value=1.0, bar_style='info', max=1.0), HTML(value='')))"
            ]
          },
          "metadata": {
            "tags": []
          }
        },
        {
          "output_type": "stream",
          "text": [
            "Extracting ./MNIST/raw/train-labels-idx1-ubyte.gz to ./MNIST/raw\n",
            "Downloading http://yann.lecun.com/exdb/mnist/t10k-images-idx3-ubyte.gz to ./MNIST/raw/t10k-images-idx3-ubyte.gz\n",
            "\n"
          ],
          "name": "stdout"
        },
        {
          "output_type": "display_data",
          "data": {
            "application/vnd.jupyter.widget-view+json": {
              "model_id": "a6d9167854ce45659d2a9c0473374012",
              "version_major": 2,
              "version_minor": 0
            },
            "text/plain": [
              "HBox(children=(FloatProgress(value=1.0, bar_style='info', max=1.0), HTML(value='')))"
            ]
          },
          "metadata": {
            "tags": []
          }
        },
        {
          "output_type": "stream",
          "text": [
            "Extracting ./MNIST/raw/t10k-images-idx3-ubyte.gz to ./MNIST/raw\n",
            "Downloading http://yann.lecun.com/exdb/mnist/t10k-labels-idx1-ubyte.gz to ./MNIST/raw/t10k-labels-idx1-ubyte.gz\n"
          ],
          "name": "stdout"
        },
        {
          "output_type": "display_data",
          "data": {
            "application/vnd.jupyter.widget-view+json": {
              "model_id": "5d83feae849a4bc0a5abbcc2e327dba8",
              "version_major": 2,
              "version_minor": 0
            },
            "text/plain": [
              "HBox(children=(FloatProgress(value=1.0, bar_style='info', max=1.0), HTML(value='')))"
            ]
          },
          "metadata": {
            "tags": []
          }
        },
        {
          "output_type": "stream",
          "text": [
            "Extracting ./MNIST/raw/t10k-labels-idx1-ubyte.gz to ./MNIST/raw\n",
            "Processing...\n",
            "Done!\n"
          ],
          "name": "stdout"
        },
        {
          "output_type": "stream",
          "text": [
            "/usr/local/lib/python3.6/dist-packages/torchvision/datasets/mnist.py:480: UserWarning: The given NumPy array is not writeable, and PyTorch does not support non-writeable tensors. This means you can write to the underlying (supposedly non-writeable) NumPy array using the tensor. You may want to copy the array to protect its data or make it writeable before converting it to a tensor. This type of warning will be suppressed for the rest of this program. (Triggered internally at  /pytorch/torch/csrc/utils/tensor_numpy.cpp:141.)\n",
            "  return torch.from_numpy(parsed.astype(m[2], copy=False)).view(*s)\n"
          ],
          "name": "stderr"
        },
        {
          "output_type": "stream",
          "text": [
            "\n",
            "\n"
          ],
          "name": "stdout"
        }
      ]
    },
    {
      "cell_type": "markdown",
      "metadata": {
        "id": "vBWybtstEiVW"
      },
      "source": [
        "## Model Defintion"
      ]
    },
    {
      "cell_type": "code",
      "metadata": {
        "id": "6jwPHdWLvDYa"
      },
      "source": [
        "class Net(nn.Module):\n",
        "    def __init__(self):\n",
        "        super(Net, self).__init__()\n",
        "        self.conv1 = nn.Conv2d(1, 32, 3, 1) #in_channel x out_channel x kernel_size x stride\n",
        "        self.conv2 = nn.Conv2d(32, 64, 3, 1)\n",
        "        self.dropout1 = nn.Dropout2d(0.25)\n",
        "        self.dropout2 = nn.Dropout2d(0.5)\n",
        "        self.fc1 = nn.Linear(9216, 128)\n",
        "        self.fc2 = nn.Linear(128, 10)\n",
        "\n",
        "    def forward(self, x):\n",
        "        x = self.conv1(x)\n",
        "        x = F.relu(x)\n",
        "        x = self.conv2(x)\n",
        "        x = F.relu(x)\n",
        "        x = F.max_pool2d(x, 2)\n",
        "        x = self.dropout1(x)\n",
        "        x = torch.flatten(x, 1)\n",
        "        x = self.fc1(x)\n",
        "        x = F.relu(x)\n",
        "        x = self.dropout2(x)\n",
        "        x = self.fc2(x)\n",
        "        output = F.log_softmax(x, dim=1)\n",
        "        return output"
      ],
      "execution_count": null,
      "outputs": []
    },
    {
      "cell_type": "markdown",
      "metadata": {
        "id": "a10h6KDJEk8T"
      },
      "source": [
        "## Train Method"
      ]
    },
    {
      "cell_type": "code",
      "metadata": {
        "id": "acKWqklYvHfE"
      },
      "source": [
        "def train(model, device, train_loader, optimizer, epoch):\n",
        "    avg_loss = 0\n",
        "    step_losses = []\n",
        "    model.train()\n",
        "    for batch_idx, (data, target) in enumerate(train_loader):\n",
        "        data, target = data.to(device), target.to(device)\n",
        "        optimizer.zero_grad()\n",
        "        output = model(data)\n",
        "        loss = F.nll_loss(output, target)\n",
        "        avg_loss += loss.item()\n",
        "        step_losses.append(loss.item())\n",
        "\n",
        "        loss.backward()\n",
        "        optimizer.step()\n",
        "    \n",
        "    return (step_losses, avg_loss/len(train_loader))"
      ],
      "execution_count": null,
      "outputs": []
    },
    {
      "cell_type": "markdown",
      "metadata": {
        "id": "SMbOvI4uEm8Y"
      },
      "source": [
        "## Test Method"
      ]
    },
    {
      "cell_type": "code",
      "metadata": {
        "id": "GjGORtldv2XR"
      },
      "source": [
        "def test(model, device, test_loader):\n",
        "    model.eval()\n",
        "    test_loss = 0\n",
        "    correct = 0\n",
        "    with torch.no_grad():\n",
        "        for data, target in test_loader:\n",
        "            data, target = data.to(device), target.to(device)\n",
        "            output = model(data)\n",
        "            test_loss += F.nll_loss(output, target, reduction='sum').item()  # sum up batch loss\n",
        "            pred = output.argmax(dim=1, keepdim=True)  # get the index of the max log-probability\n",
        "            correct += pred.eq(target.view_as(pred)).sum().item()\n",
        "\n",
        "    test_loss /= len(test_loader.dataset)\n",
        "    test_acc = 100.0 * correct / len(test_loader.dataset)\n",
        "    return (test_loss, test_acc)"
      ],
      "execution_count": null,
      "outputs": []
    },
    {
      "cell_type": "markdown",
      "metadata": {
        "id": "Z24upUaNErER"
      },
      "source": [
        "## Evaluate Method"
      ]
    },
    {
      "cell_type": "code",
      "metadata": {
        "id": "pyO9_Cr01vit"
      },
      "source": [
        "def evaluate(optimizer):\n",
        "\n",
        "    scheduler = StepLR(optimizer, step_size=1, gamma=0.2)\n",
        "\n",
        "    min_loss = 1e7\n",
        "    best_acc = None\n",
        "\n",
        "    train_losses = []\n",
        "    step_losses = []\n",
        "\n",
        "    for epoch in range(0, 5):\n",
        "        epoch_step_losses, train_loss = train(model, device, train_loader, optimizer, epoch)\n",
        "        test_loss, test_acc = test(model, device, test_loader)\n",
        "\n",
        "        train_losses.append(train_loss)\n",
        "        step_losses.extend(epoch_step_losses)\n",
        "\n",
        "        if test_loss < min_loss:\n",
        "            min_loss = test_loss\n",
        "            best_acc = test_acc\n",
        "\n",
        "        scheduler.step()\n",
        "\n",
        "    return (train_losses, step_losses, best_acc)"
      ],
      "execution_count": null,
      "outputs": []
    },
    {
      "cell_type": "markdown",
      "metadata": {
        "id": "ptNl-0T7-B7w"
      },
      "source": [
        "## Learning Rate = 0.002"
      ]
    },
    {
      "cell_type": "markdown",
      "metadata": {
        "id": "KcZJ5Xao-TW1"
      },
      "source": [
        "### Mini Batch"
      ]
    },
    {
      "cell_type": "code",
      "metadata": {
        "id": "jAEGTnIKv-9F"
      },
      "source": [
        "model = Net().to(device)\n",
        "minibatch_res = evaluate(optim.SGD(model.parameters(), lr=0.002))"
      ],
      "execution_count": null,
      "outputs": []
    },
    {
      "cell_type": "code",
      "metadata": {
        "id": "ucZDai24-O6G",
        "outputId": "efcb8e2d-e87d-4170-82fb-97f80041c48e",
        "colab": {
          "base_uri": "https://localhost:8080/",
          "height": 282
        }
      },
      "source": [
        "plt.plot(list(range(0, len(minibatch_res[1]))), minibatch_res[1])"
      ],
      "execution_count": null,
      "outputs": [
        {
          "output_type": "execute_result",
          "data": {
            "text/plain": [
              "[<matplotlib.lines.Line2D at 0x7fb1511c0b38>]"
            ]
          },
          "metadata": {
            "tags": []
          },
          "execution_count": 35
        },
        {
          "output_type": "display_data",
          "data": {
            "image/png": "[encoded data removed]",
            "text/plain": [
              "<Figure size 432x288 with 1 Axes>"
            ]
          },
          "metadata": {
            "tags": []
          }
        }
      ]
    },
    {
      "cell_type": "code",
      "metadata": {
        "id": "-Ea7mO1z-PJM",
        "outputId": "c2739c73-2a6f-4d92-d68f-12592fb72831",
        "colab": {
          "base_uri": "https://localhost:8080/",
          "height": 282
        }
      },
      "source": [
        "plt.plot(list(range(0, len(minibatch_res[0]))), minibatch_res[0])"
      ],
      "execution_count": null,
      "outputs": [
        {
          "output_type": "execute_result",
          "data": {
            "text/plain": [
              "[<matplotlib.lines.Line2D at 0x7fb1510b6d68>]"
            ]
          },
          "metadata": {
            "tags": []
          },
          "execution_count": 36
        },
        {
          "output_type": "display_data",
          "data": {
            "image/png": "[encoded data removed]",
            "text/plain": [
              "<Figure size 432x288 with 1 Axes>"
            ]
          },
          "metadata": {
            "tags": []
          }
        }
      ]
    },
    {
      "cell_type": "markdown",
      "metadata": {
        "id": "xPb_TcdX-Xnm"
      },
      "source": [
        "### Momentum"
      ]
    },
    {
      "cell_type": "code",
      "metadata": {
        "id": "OdErPRZR-IcE"
      },
      "source": [
        "model = Net().to(device)\n",
        "momentum_res = evaluate(optim.SGD(model.parameters(), momentum=0.9, lr=0.002))"
      ],
      "execution_count": null,
      "outputs": []
    },
    {
      "cell_type": "code",
      "metadata": {
        "id": "ZgNzyPhJ-Pol",
        "outputId": "993bdef1-8bb5-486a-be78-a251ce0e3251",
        "colab": {
          "base_uri": "https://localhost:8080/",
          "height": 298
        }
      },
      "source": [
        "plt.title(\"Epoch wise plot\")\n",
        "plt.plot(list(range(0, len(momentum_res[1]))), momentum_res[1])"
      ],
      "execution_count": null,
      "outputs": [
        {
          "output_type": "execute_result",
          "data": {
            "text/plain": [
              "[<matplotlib.lines.Line2D at 0x7fb1510c6240>]"
            ]
          },
          "metadata": {
            "tags": []
          },
          "execution_count": 38
        },
        {
          "output_type": "display_data",
          "data": {
            "image/png": "[encoded data removed]",
            "text/plain": [
              "<Figure size 432x288 with 1 Axes>"
            ]
          },
          "metadata": {
            "tags": []
          }
        }
      ]
    },
    {
      "cell_type": "code",
      "metadata": {
        "id": "JRwGIoSW_xYK",
        "outputId": "92fa28f4-947c-4188-da8f-cf3d0113aa36",
        "colab": {
          "base_uri": "https://localhost:8080/",
          "height": 298
        }
      },
      "source": [
        "plt.title(\"Step wise plot\")\n",
        "plt.plot(list(range(0, len(momentum_res[0]))), momentum_res[0])"
      ],
      "execution_count": null,
      "outputs": [
        {
          "output_type": "execute_result",
          "data": {
            "text/plain": [
              "[<matplotlib.lines.Line2D at 0x7fb150388d68>]"
            ]
          },
          "metadata": {
            "tags": []
          },
          "execution_count": 39
        },
        {
          "output_type": "display_data",
          "data": {
            "image/png": "[encoded data removed]",
            "text/plain": [
              "<Figure size 432x288 with 1 Axes>"
            ]
          },
          "metadata": {
            "tags": []
          }
        }
      ]
    },
    {
      "cell_type": "markdown",
      "metadata": {
        "id": "BMzisYDd-a91"
      },
      "source": [
        "### Nesterov"
      ]
    },
    {
      "cell_type": "code",
      "metadata": {
        "id": "G3O37LkR-LnA"
      },
      "source": [
        "model = Net().to(device)\n",
        "nesterov_res = evaluate(optim.SGD(model.parameters(), momentum=0.9, nesterov=True, lr=0.002))"
      ],
      "execution_count": null,
      "outputs": []
    },
    {
      "cell_type": "code",
      "metadata": {
        "id": "-XhVp0YS-QYi",
        "outputId": "78233e19-9a74-40ae-b4be-d49b07f963b7",
        "colab": {
          "base_uri": "https://localhost:8080/",
          "height": 298
        }
      },
      "source": [
        "plt.title(\"Step wise plot\")\n",
        "plt.plot(list(range(0, len(nesterov_res[1]))), nesterov_res[1])"
      ],
      "execution_count": null,
      "outputs": [
        {
          "output_type": "execute_result",
          "data": {
            "text/plain": [
              "[<matplotlib.lines.Line2D at 0x7fb1503f19e8>]"
            ]
          },
          "metadata": {
            "tags": []
          },
          "execution_count": 41
        },
        {
          "output_type": "display_data",
          "data": {
            "image/png": "[encoded data removed]",
            "text/plain": [
              "<Figure size 432x288 with 1 Axes>"
            ]
          },
          "metadata": {
            "tags": []
          }
        }
      ]
    },
    {
      "cell_type": "code",
      "metadata": {
        "id": "ZEkfO3tB-QN9",
        "outputId": "a4ed4630-301a-4103-9857-ffa2b7ef9644",
        "colab": {
          "base_uri": "https://localhost:8080/",
          "height": 298
        }
      },
      "source": [
        "plt.title(\"Epoch wise plot\")\n",
        "plt.plot(list(range(0, len(nesterov_res[0]))), nesterov_res[0])"
      ],
      "execution_count": null,
      "outputs": [
        {
          "output_type": "execute_result",
          "data": {
            "text/plain": [
              "[<matplotlib.lines.Line2D at 0x7fb15111f048>]"
            ]
          },
          "metadata": {
            "tags": []
          },
          "execution_count": 42
        },
        {
          "output_type": "display_data",
          "data": {
            "image/png": "[encoded data removed]",
            "text/plain": [
              "<Figure size 432x288 with 1 Axes>"
            ]
          },
          "metadata": {
            "tags": []
          }
        }
      ]
    },
    {
      "cell_type": "markdown",
      "metadata": {
        "id": "qwSluGv0-e7y"
      },
      "source": [
        "### Adam"
      ]
    },
    {
      "cell_type": "code",
      "metadata": {
        "id": "FbSv90im-NIb"
      },
      "source": [
        "model = Net().to(device)\n",
        "adam_res = evaluate(optim.Adam(model.parameters(), lr=0.002))"
      ],
      "execution_count": null,
      "outputs": []
    },
    {
      "cell_type": "code",
      "metadata": {
        "id": "QHp2q8t3-RvT",
        "outputId": "6fa9210f-6b10-4dbc-fa68-0b94208c7b98",
        "colab": {
          "base_uri": "https://localhost:8080/",
          "height": 298
        }
      },
      "source": [
        "plt.title(\"Step wise plot\")\n",
        "plt.plot(list(range(0, len(adam_res[1]))), adam_res[1])"
      ],
      "execution_count": null,
      "outputs": [
        {
          "output_type": "execute_result",
          "data": {
            "text/plain": [
              "[<matplotlib.lines.Line2D at 0x7fb150450b00>]"
            ]
          },
          "metadata": {
            "tags": []
          },
          "execution_count": 44
        },
        {
          "output_type": "display_data",
          "data": {
            "image/png": "[encoded data removed]",
            "text/plain": [
              "<Figure size 432x288 with 1 Axes>"
            ]
          },
          "metadata": {
            "tags": []
          }
        }
      ]
    },
    {
      "cell_type": "code",
      "metadata": {
        "id": "HaUoNZy0-RRY",
        "outputId": "0365575f-fa68-487c-978d-6b0a4e65dfc8",
        "colab": {
          "base_uri": "https://localhost:8080/",
          "height": 298
        }
      },
      "source": [
        "plt.title(\"Epoch wise plot\")\n",
        "plt.plot(list(range(0, len(adam_res[0]))), adam_res[0])"
      ],
      "execution_count": null,
      "outputs": [
        {
          "output_type": "execute_result",
          "data": {
            "text/plain": [
              "[<matplotlib.lines.Line2D at 0x7fb150396fd0>]"
            ]
          },
          "metadata": {
            "tags": []
          },
          "execution_count": 45
        },
        {
          "output_type": "display_data",
          "data": {
            "image/png": "[encoded data removed]",
            "text/plain": [
              "<Figure size 432x288 with 1 Axes>"
            ]
          },
          "metadata": {
            "tags": []
          }
        }
      ]
    },
    {
      "cell_type": "markdown",
      "metadata": {
        "id": "Dw7ZdF13E1Vn"
      },
      "source": [
        "### Comparison"
      ]
    },
    {
      "cell_type": "code",
      "metadata": {
        "id": "Bm9ueYIeE2c4",
        "outputId": "cbdf97a2-75e0-4e05-f28a-55c6c07e5b51",
        "colab": {
          "base_uri": "https://localhost:8080/",
          "height": 282
        }
      },
      "source": [
        "plt.bar([\"Minibatch\", \"Momentum\", \"Nesterov\", \"Adam\"], [minibatch_res[2], momentum_res[2], nesterov_res[2], adam_res[2]])"
      ],
      "execution_count": null,
      "outputs": [
        {
          "output_type": "execute_result",
          "data": {
            "text/plain": [
              "<BarContainer object of 4 artists>"
            ]
          },
          "metadata": {
            "tags": []
          },
          "execution_count": 46
        },
        {
          "output_type": "display_data",
          "data": {
            "image/png": "[encoded data removed]",
            "text/plain": [
              "<Figure size 432x288 with 1 Axes>"
            ]
          },
          "metadata": {
            "tags": []
          }
        }
      ]
    },
    {
      "cell_type": "markdown",
      "metadata": {
        "id": "FDrtNxXOFJ5t"
      },
      "source": [
        "## Learning Rate 0.02"
      ]
    },
    {
      "cell_type": "markdown",
      "metadata": {
        "id": "Er9qaC8OFjA6"
      },
      "source": [
        "### Mini Batch"
      ]
    },
    {
      "cell_type": "code",
      "metadata": {
        "id": "NcWWQn5MFjBE"
      },
      "source": [
        "model = Net().to(device)\n",
        "minibatch_res = evaluate(optim.SGD(model.parameters(), lr=0.02))"
      ],
      "execution_count": null,
      "outputs": []
    },
    {
      "cell_type": "code",
      "metadata": {
        "id": "353J_giQFjBK",
        "outputId": "44e206ca-a775-48bc-91f9-ce0d3126167b",
        "colab": {
          "base_uri": "https://localhost:8080/",
          "height": 282
        }
      },
      "source": [
        "plt.plot(list(range(0, len(minibatch_res[1]))), minibatch_res[1])"
      ],
      "execution_count": null,
      "outputs": [
        {
          "output_type": "execute_result",
          "data": {
            "text/plain": [
              "[<matplotlib.lines.Line2D at 0x7fb1500762e8>]"
            ]
          },
          "metadata": {
            "tags": []
          },
          "execution_count": 48
        },
        {
          "output_type": "display_data",
          "data": {
            "image/png": "[encoded data removed]",
            "text/plain": [
              "<Figure size 432x288 with 1 Axes>"
            ]
          },
          "metadata": {
            "tags": []
          }
        }
      ]
    },
    {
      "cell_type": "code",
      "metadata": {
        "id": "tSWtsXZLFjBP",
        "outputId": "426d9851-4f61-4dd3-c6db-a88debb52ebc",
        "colab": {
          "base_uri": "https://localhost:8080/",
          "height": 282
        }
      },
      "source": [
        "plt.plot(list(range(0, len(minibatch_res[0]))), minibatch_res[0])"
      ],
      "execution_count": null,
      "outputs": [
        {
          "output_type": "execute_result",
          "data": {
            "text/plain": [
              "[<matplotlib.lines.Line2D at 0x7fb15013f898>]"
            ]
          },
          "metadata": {
            "tags": []
          },
          "execution_count": 49
        },
        {
          "output_type": "display_data",
          "data": {
            "image/png": "[encoded data removed]",
            "text/plain": [
              "<Figure size 432x288 with 1 Axes>"
            ]
          },
          "metadata": {
            "tags": []
          }
        }
      ]
    },
    {
      "cell_type": "markdown",
      "metadata": {
        "id": "J4InMLONFjBS"
      },
      "source": [
        "### Momentum"
      ]
    },
    {
      "cell_type": "code",
      "metadata": {
        "id": "_z8Adfz8FjBS"
      },
      "source": [
        "model = Net().to(device)\n",
        "momentum_res = evaluate(optim.SGD(model.parameters(), momentum=0.9, lr=0.02))"
      ],
      "execution_count": null,
      "outputs": []
    },
    {
      "cell_type": "code",
      "metadata": {
        "id": "JScorIO3FjBV",
        "outputId": "596e63c5-7adb-40ee-f480-d0b8541cc7c7",
        "colab": {
          "base_uri": "https://localhost:8080/",
          "height": 298
        }
      },
      "source": [
        "plt.title(\"Epoch wise plot\")\n",
        "plt.plot(list(range(0, len(momentum_res[1]))), momentum_res[1])"
      ],
      "execution_count": null,
      "outputs": [
        {
          "output_type": "execute_result",
          "data": {
            "text/plain": [
              "[<matplotlib.lines.Line2D at 0x7fb1510decc0>]"
            ]
          },
          "metadata": {
            "tags": []
          },
          "execution_count": 51
        },
        {
          "output_type": "display_data",
          "data": {
            "image/png": "[encoded data removed]",
            "text/plain": [
              "<Figure size 432x288 with 1 Axes>"
            ]
          },
          "metadata": {
            "tags": []
          }
        }
      ]
    },
    {
      "cell_type": "code",
      "metadata": {
        "id": "ZnpJta8-FjBZ",
        "outputId": "898af38f-68f7-430d-e5a1-75c97b376f19",
        "colab": {
          "base_uri": "https://localhost:8080/",
          "height": 298
        }
      },
      "source": [
        "plt.title(\"Step wise plot\")\n",
        "plt.plot(list(range(0, len(momentum_res[0]))), momentum_res[0])"
      ],
      "execution_count": null,
      "outputs": [
        {
          "output_type": "execute_result",
          "data": {
            "text/plain": [
              "[<matplotlib.lines.Line2D at 0x7fb1503b7b00>]"
            ]
          },
          "metadata": {
            "tags": []
          },
          "execution_count": 52
        },
        {
          "output_type": "display_data",
          "data": {
            "image/png": "[encoded data removed]",
            "text/plain": [
              "<Figure size 432x288 with 1 Axes>"
            ]
          },
          "metadata": {
            "tags": []
          }
        }
      ]
    },
    {
      "cell_type": "markdown",
      "metadata": {
        "id": "0yG6QG1yFjBb"
      },
      "source": [
        "### Nesterov"
      ]
    },
    {
      "cell_type": "code",
      "metadata": {
        "id": "X-23MunUFjBc"
      },
      "source": [
        "model = Net().to(device)\n",
        "nesterov_res = evaluate(optim.SGD(model.parameters(), momentum=0.9, nesterov=True, lr=0.02))"
      ],
      "execution_count": null,
      "outputs": []
    },
    {
      "cell_type": "code",
      "metadata": {
        "id": "3EIB5fAKFjBf",
        "outputId": "e5f45855-cd8f-4430-9b09-30f332f1205a",
        "colab": {
          "base_uri": "https://localhost:8080/",
          "height": 298
        }
      },
      "source": [
        "plt.title(\"Step wise plot\")\n",
        "plt.plot(list(range(0, len(nesterov_res[1]))), nesterov_res[1])"
      ],
      "execution_count": null,
      "outputs": [
        {
          "output_type": "execute_result",
          "data": {
            "text/plain": [
              "[<matplotlib.lines.Line2D at 0x7fb151aa22b0>]"
            ]
          },
          "metadata": {
            "tags": []
          },
          "execution_count": 54
        },
        {
          "output_type": "display_data",
          "data": {
            "image/png": "[encoded data removed]",
            "text/plain": [
              "<Figure size 432x288 with 1 Axes>"
            ]
          },
          "metadata": {
            "tags": []
          }
        }
      ]
    },
    {
      "cell_type": "code",
      "metadata": {
        "id": "I4tmAEkZFjBj",
        "outputId": "fc31cc09-bd8f-4234-c461-8a5f66c177f2",
        "colab": {
          "base_uri": "https://localhost:8080/",
          "height": 298
        }
      },
      "source": [
        "plt.title(\"Epoch wise plot\")\n",
        "plt.plot(list(range(0, len(nesterov_res[0]))), nesterov_res[0])"
      ],
      "execution_count": null,
      "outputs": [
        {
          "output_type": "execute_result",
          "data": {
            "text/plain": [
              "[<matplotlib.lines.Line2D at 0x7fb1511676d8>]"
            ]
          },
          "metadata": {
            "tags": []
          },
          "execution_count": 55
        },
        {
          "output_type": "display_data",
          "data": {
            "image/png": "[encoded data removed]",
            "text/plain": [
              "<Figure size 432x288 with 1 Axes>"
            ]
          },
          "metadata": {
            "tags": []
          }
        }
      ]
    },
    {
      "cell_type": "markdown",
      "metadata": {
        "id": "2SuS0JSKFjBl"
      },
      "source": [
        "### Adam"
      ]
    },
    {
      "cell_type": "code",
      "metadata": {
        "id": "sgN148b_FjBm"
      },
      "source": [
        "model = Net().to(device)\n",
        "adam_res = evaluate(optim.Adam(model.parameters(), lr=0.02))"
      ],
      "execution_count": null,
      "outputs": []
    },
    {
      "cell_type": "code",
      "metadata": {
        "id": "qFb_mrXPFjBp",
        "outputId": "081f0377-eb1c-4abd-d952-fd300ed30801",
        "colab": {
          "base_uri": "https://localhost:8080/",
          "height": 298
        }
      },
      "source": [
        "plt.title(\"Step wise plot\")\n",
        "plt.plot(list(range(0, len(adam_res[1]))), adam_res[1])"
      ],
      "execution_count": null,
      "outputs": [
        {
          "output_type": "execute_result",
          "data": {
            "text/plain": [
              "[<matplotlib.lines.Line2D at 0x7fb1511d14e0>]"
            ]
          },
          "metadata": {
            "tags": []
          },
          "execution_count": 57
        },
        {
          "output_type": "display_data",
          "data": {
            "image/png": "[encoded data removed]",
            "text/plain": [
              "<Figure size 432x288 with 1 Axes>"
            ]
          },
          "metadata": {
            "tags": []
          }
        }
      ]
    },
    {
      "cell_type": "code",
      "metadata": {
        "id": "SSRubvkqFjBr",
        "outputId": "e1296147-e18c-4972-fbd7-4cb3607902a9",
        "colab": {
          "base_uri": "https://localhost:8080/",
          "height": 298
        }
      },
      "source": [
        "plt.title(\"Epoch wise plot\")\n",
        "plt.plot(list(range(0, len(adam_res[0]))), adam_res[0])"
      ],
      "execution_count": null,
      "outputs": [
        {
          "output_type": "execute_result",
          "data": {
            "text/plain": [
              "[<matplotlib.lines.Line2D at 0x7fb136e92240>]"
            ]
          },
          "metadata": {
            "tags": []
          },
          "execution_count": 58
        },
        {
          "output_type": "display_data",
          "data": {
            "image/png": "[encoded data removed]",
            "text/plain": [
              "<Figure size 432x288 with 1 Axes>"
            ]
          },
          "metadata": {
            "tags": []
          }
        }
      ]
    },
    {
      "cell_type": "markdown",
      "metadata": {
        "id": "QxPFbR9XFjBt"
      },
      "source": [
        "### Comparison"
      ]
    },
    {
      "cell_type": "code",
      "metadata": {
        "id": "bJ42YjcKFjBu",
        "outputId": "3664f10d-d77b-4f62-d22a-68547768a06c",
        "colab": {
          "base_uri": "https://localhost:8080/",
          "height": 282
        }
      },
      "source": [
        "plt.bar([\"Minibatch\", \"Momentum\", \"Nesterov\", \"Adam\"], [minibatch_res[2], momentum_res[2], nesterov_res[2], adam_res[2]])"
      ],
      "execution_count": null,
      "outputs": [
        {
          "output_type": "execute_result",
          "data": {
            "text/plain": [
              "<BarContainer object of 4 artists>"
            ]
          },
          "metadata": {
            "tags": []
          },
          "execution_count": 59
        },
        {
          "output_type": "display_data",
          "data": {
            "image/png": "[encoded data removed]",
            "text/plain": [
              "<Figure size 432x288 with 1 Axes>"
            ]
          },
          "metadata": {
            "tags": []
          }
        }
      ]
    },
    {
      "cell_type": "markdown",
      "metadata": {
        "id": "-BFq-q24Fp_U"
      },
      "source": [
        "## Learning Rate 0.2"
      ]
    },
    {
      "cell_type": "markdown",
      "metadata": {
        "id": "uXDd_Ao5FsPH"
      },
      "source": [
        "### Mini Batch"
      ]
    },
    {
      "cell_type": "code",
      "metadata": {
        "id": "PSfzg5S2FsPI"
      },
      "source": [
        "model = Net().to(device)\n",
        "minibatch_res = evaluate(optim.SGD(model.parameters(), lr=0.2))"
      ],
      "execution_count": null,
      "outputs": []
    },
    {
      "cell_type": "code",
      "metadata": {
        "id": "2f5MbTrNFsPM",
        "outputId": "9ab08e96-9fd5-4d5d-f8fb-fe9ae040c13a",
        "colab": {
          "base_uri": "https://localhost:8080/",
          "height": 285
        }
      },
      "source": [
        "plt.plot(list(range(0, len(minibatch_res[1]))), minibatch_res[1])"
      ],
      "execution_count": null,
      "outputs": [
        {
          "output_type": "execute_result",
          "data": {
            "text/plain": [
              "[<matplotlib.lines.Line2D at 0x7fb136f7b828>]"
            ]
          },
          "metadata": {
            "tags": []
          },
          "execution_count": 61
        },
        {
          "output_type": "display_data",
          "data": {
            "image/png": "[encoded data removed]",
            "text/plain": [
              "<Figure size 432x288 with 1 Axes>"
            ]
          },
          "metadata": {
            "tags": []
          }
        }
      ]
    },
    {
      "cell_type": "code",
      "metadata": {
        "id": "06oewsrMFsPP",
        "outputId": "8a6ba3af-0dfe-4c6f-d124-283271df25fe",
        "colab": {
          "base_uri": "https://localhost:8080/",
          "height": 282
        }
      },
      "source": [
        "plt.plot(list(range(0, len(minibatch_res[0]))), minibatch_res[0])"
      ],
      "execution_count": null,
      "outputs": [
        {
          "output_type": "execute_result",
          "data": {
            "text/plain": [
              "[<matplotlib.lines.Line2D at 0x7fb136e4b470>]"
            ]
          },
          "metadata": {
            "tags": []
          },
          "execution_count": 62
        },
        {
          "output_type": "display_data",
          "data": {
            "image/png": "[encoded data removed]",
            "text/plain": [
              "<Figure size 432x288 with 1 Axes>"
            ]
          },
          "metadata": {
            "tags": []
          }
        }
      ]
    },
    {
      "cell_type": "markdown",
      "metadata": {
        "id": "2mP0l8JLFsPS"
      },
      "source": [
        "### Momentum"
      ]
    },
    {
      "cell_type": "code",
      "metadata": {
        "id": "ZwghmlIrFsPT"
      },
      "source": [
        "model = Net().to(device)\n",
        "momentum_res = evaluate(optim.SGD(model.parameters(), momentum=0.9, lr=0.2))"
      ],
      "execution_count": null,
      "outputs": []
    },
    {
      "cell_type": "code",
      "metadata": {
        "id": "AC2k9EzSFsPX",
        "outputId": "77c57c75-c82c-4124-e360-8e50dcb41d74",
        "colab": {
          "base_uri": "https://localhost:8080/"
        }
      },
      "source": [
        "plt.title(\"Epoch wise plot\")\n",
        "plt.plot(list(range(0, len(momentum_res[1]))), momentum_res[1])"
      ],
      "execution_count": null,
      "outputs": [
        {
          "output_type": "execute_result",
          "data": {
            "text/plain": [
              "[<matplotlib.lines.Line2D at 0x7fb136e12048>]"
            ]
          },
          "metadata": {
            "tags": []
          },
          "execution_count": 64
        },
        {
          "output_type": "display_data",
          "data": {
            "image/png": "[encoded data removed]",
            "text/plain": [
              "<Figure size 432x288 with 1 Axes>"
            ]
          },
          "metadata": {
            "tags": []
          }
        }
      ]
    },
    {
      "cell_type": "code",
      "metadata": {
        "id": "1_C2OehpFsPa",
        "outputId": "bbed0890-9ed2-47de-8698-3de75f35e01a",
        "colab": {
          "base_uri": "https://localhost:8080/"
        }
      },
      "source": [
        "plt.title(\"Step wise plot\")\n",
        "plt.plot(list(range(0, len(momentum_res[0]))), momentum_res[0])"
      ],
      "execution_count": null,
      "outputs": [
        {
          "output_type": "execute_result",
          "data": {
            "text/plain": [
              "[<matplotlib.lines.Line2D at 0x7fb136f0a630>]"
            ]
          },
          "metadata": {
            "tags": []
          },
          "execution_count": 65
        },
        {
          "output_type": "display_data",
          "data": {
            "image/png": "[encoded data removed]",
            "text/plain": [
              "<Figure size 432x288 with 1 Axes>"
            ]
          },
          "metadata": {
            "tags": []
          }
        }
      ]
    },
    {
      "cell_type": "markdown",
      "metadata": {
        "id": "UNh_C7BdFsPd"
      },
      "source": [
        "### Nesterov"
      ]
    },
    {
      "cell_type": "code",
      "metadata": {
        "id": "BYPYbVp2FsPd"
      },
      "source": [
        "model = Net().to(device)\n",
        "nesterov_res = evaluate(optim.SGD(model.parameters(), momentum=0.9, nesterov=True, lr=0.2))"
      ],
      "execution_count": null,
      "outputs": []
    },
    {
      "cell_type": "code",
      "metadata": {
        "id": "LfAgIn-iFsPg",
        "outputId": "568e60ef-19ed-41d7-ed5a-36eae9188cf9",
        "colab": {
          "base_uri": "https://localhost:8080/"
        }
      },
      "source": [
        "plt.title(\"Step wise plot\")\n",
        "plt.plot(list(range(0, len(nesterov_res[1]))), nesterov_res[1])"
      ],
      "execution_count": null,
      "outputs": [
        {
          "output_type": "execute_result",
          "data": {
            "text/plain": [
              "[<matplotlib.lines.Line2D at 0x7fb136e0a0f0>]"
            ]
          },
          "metadata": {
            "tags": []
          },
          "execution_count": 67
        },
        {
          "output_type": "display_data",
          "data": {
            "image/png": "[encoded data removed]",
            "text/plain": [
              "<Figure size 432x288 with 1 Axes>"
            ]
          },
          "metadata": {
            "tags": []
          }
        }
      ]
    },
    {
      "cell_type": "code",
      "metadata": {
        "id": "NQjyXRZEFsPi",
        "outputId": "255d265a-26dc-4d53-8303-6fad3b9fc55b",
        "colab": {
          "base_uri": "https://localhost:8080/"
        }
      },
      "source": [
        "plt.title(\"Epoch wise plot\")\n",
        "plt.plot(list(range(0, len(nesterov_res[0]))), nesterov_res[0])"
      ],
      "execution_count": null,
      "outputs": [
        {
          "output_type": "execute_result",
          "data": {
            "text/plain": [
              "[<matplotlib.lines.Line2D at 0x7fb136bcbbe0>]"
            ]
          },
          "metadata": {
            "tags": []
          },
          "execution_count": 68
        },
        {
          "output_type": "display_data",
          "data": {
            "image/png": "[encoded data removed]",
            "text/plain": [
              "<Figure size 432x288 with 1 Axes>"
            ]
          },
          "metadata": {
            "tags": []
          }
        }
      ]
    },
    {
      "cell_type": "markdown",
      "metadata": {
        "id": "Lqb9kgdfFsPl"
      },
      "source": [
        "### Adam"
      ]
    },
    {
      "cell_type": "code",
      "metadata": {
        "id": "t41nZkKsFsPm",
        "colab": {
          "background_save": true
        }
      },
      "source": [
        "model = Net().to(device)\n",
        "adam_res = evaluate(optim.Adam(model.parameters(), lr=0.2))"
      ],
      "execution_count": null,
      "outputs": []
    },
    {
      "cell_type": "code",
      "metadata": {
        "id": "KA2BUrvgFsPq",
        "outputId": "aca147fd-aa4a-402c-c628-209a21cde283",
        "colab": {
          "background_save": true
        }
      },
      "source": [
        "plt.title(\"Step wise plot\")\n",
        "plt.plot(list(range(0, len(adam_res[1]))), adam_res[1])"
      ],
      "execution_count": null,
      "outputs": [
        {
          "output_type": "execute_result",
          "data": {
            "text/plain": [
              "[<matplotlib.lines.Line2D at 0x7fb136e33710>]"
            ]
          },
          "metadata": {
            "tags": []
          },
          "execution_count": 0
        },
        {
          "output_type": "display_data",
          "data": {
            "image/png": "[encoded data removed]",
            "text/plain": [
              "<Figure size 432x288 with 1 Axes>"
            ]
          },
          "metadata": {
            "tags": []
          }
        }
      ]
    },
    {
      "cell_type": "code",
      "metadata": {
        "id": "TIg8VPv2FsPt",
        "outputId": "539b26bb-c383-4836-9874-c9332105a567",
        "colab": {
          "background_save": true
        }
      },
      "source": [
        "plt.title(\"Epoch wise plot\")\n",
        "plt.plot(list(range(0, len(adam_res[0]))), adam_res[0])"
      ],
      "execution_count": null,
      "outputs": [
        {
          "output_type": "execute_result",
          "data": {
            "text/plain": [
              "[<matplotlib.lines.Line2D at 0x7fb136dcb3c8>]"
            ]
          },
          "metadata": {
            "tags": []
          },
          "execution_count": 0
        },
        {
          "output_type": "display_data",
          "data": {
            "image/png": "[encoded data removed]",
            "text/plain": [
              "<Figure size 432x288 with 1 Axes>"
            ]
          },
          "metadata": {
            "tags": []
          }
        }
      ]
    },
    {
      "cell_type": "markdown",
      "metadata": {
        "id": "47cmHsZjFsPv"
      },
      "source": [
        "### Comparison"
      ]
    },
    {
      "cell_type": "code",
      "metadata": {
        "id": "cuvEV-SIFsPv",
        "outputId": "595b7090-127a-4319-f485-c4475c5ed8ea",
        "colab": {
          "background_save": true
        }
      },
      "source": [
        "plt.bar([\"Minibatch\", \"Momentum\", \"Nesterov\", \"Adam\"], [minibatch_res[2], momentum_res[2], nesterov_res[2], adam_res[2]])"
      ],
      "execution_count": null,
      "outputs": [
        {
          "output_type": "execute_result",
          "data": {
            "text/plain": [
              "<BarContainer object of 4 artists>"
            ]
          },
          "metadata": {
            "tags": []
          },
          "execution_count": 0
        },
        {
          "output_type": "display_data",
          "data": {
            "image/png": "[encoded data removed]",
            "text/plain": [
              "<Figure size 432x288 with 1 Axes>"
            ]
          },
          "metadata": {
            "tags": []
          }
        }
      ]
    },
    {
      "cell_type": "markdown",
      "metadata": {
        "id": "V-ZWaNY5AGgu"
      },
      "source": [
        "## Explaination\n",
        "As we increase the learning rate, the plots tend to become steeper as expected. Also with larger learning rate Adam starts to outperform the other methods."
      ]
    }
  ]
}